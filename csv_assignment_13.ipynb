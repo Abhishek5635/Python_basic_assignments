{
  "nbformat": 4,
  "nbformat_minor": 0,
  "metadata": {
    "colab": {
      "provenance": [],
      "authorship_tag": "ABX9TyO8oTTuHPCaE2Tp8n0LCKJH",
      "include_colab_link": true
    },
    "kernelspec": {
      "name": "python3",
      "display_name": "Python 3"
    },
    "language_info": {
      "name": "python"
    }
  },
  "cells": [
    {
      "cell_type": "markdown",
      "metadata": {
        "id": "view-in-github",
        "colab_type": "text"
      },
      "source": [
        "<a href=\"https://colab.research.google.com/github/Abhishek5635/Python_basic_assignments/blob/main/csv_assignment_13.ipynb\" target=\"_parent\"><img src=\"https://colab.research.google.com/assets/colab-badge.svg\" alt=\"Open In Colab\"/></a>"
      ]
    },
    {
      "cell_type": "markdown",
      "source": [
        "1. What advantages do Excel spreadsheets have over CSV spreadsheets?\n",
        "- Ans :\n",
        " - Data Formatting: Excel supports various data formatting options such as cell formatting, font styles, colors, borders, and conditional formatting.\n",
        " - Formulas and Functions: Excel provides a wide range of built-in formulas and functions that can be used for calculations, data analysis, and automation\n",
        " - Data Validation: Excel allows us to set validation rules for data entry, ensuring that users input valid and consistent data."
      ],
      "metadata": {
        "id": "hykPJwy1ICtx"
      }
    },
    {
      "cell_type": "markdown",
      "source": [
        "2.What do you pass to csv.reader() and csv.writer() to create reader and writer objects?\n",
        "- ans :\n",
        " - For csv.reader(), you pass an open file object in read mode.\n",
        " - csv.writer(), you pass an open file object in write mode"
      ],
      "metadata": {
        "id": "CGUOoGL4IvKc"
      }
    },
    {
      "cell_type": "markdown",
      "source": [
        "3. What modes do File objects for reader and writer objects need to be opened in?\n",
        " - Ans :\n",
        "  - Reader Object:\n",
        "The file object for a reader object should be opened in read mode ('r').\n",
        "Example: open('data.csv', 'r')\n",
        " - Writer Object:\n",
        "The file object for a writer object should be opened in write mode ('w'), or in append mode ('a') if you want to append data to an existing file."
      ],
      "metadata": {
        "id": "y2NR39mbJTIC"
      }
    },
    {
      "cell_type": "markdown",
      "source": [
        "4. What method takes a list argument and writes it to a CSV file?\n",
        "- Ans:\n",
        " - writerow()"
      ],
      "metadata": {
        "id": "T3Zr91HXJoFv"
      }
    },
    {
      "cell_type": "code",
      "execution_count": 3,
      "metadata": {
        "id": "6oOGAgqbIBwZ"
      },
      "outputs": [],
      "source": [
        "import csv\n",
        "\n",
        "# Open the CSV file in write mode\n",
        "with open('output.csv', 'w', newline='') as file:\n",
        "    writer = csv.writer(file)\n",
        "\n",
        "    # Write a list of values to the CSV file\n",
        "    row1 = ['Name', 'Age', 'City']\n",
        "\n",
        "    writer.writerow(row1)"
      ]
    },
    {
      "cell_type": "markdown",
      "source": [
        "5. What do the keyword arguments delimiter and line terminator do?\n",
        "- Ans:\n",
        " - delimiter:\n",
        "\n",
        "The delimiter keyword argument is used to specify the character used to separate fields (columns) within a CSV file.\n",
        "By default, the delimiter character is a comma (,).\n",
        "When writing a CSV file, we can provide a different delimiter character using the delimiter parameter of the csv.writer() function.\n",
        "  - line terminator:\n",
        "The line terminator keyword argument is used to specify the character(s) used to terminate each row (record) in a CSV file.\n",
        "By default, the line terminator is the newline character ('\\n').\n",
        "When writing a CSV file, you can provide a different line terminator using the lineterminator parameter of the csv.writer() function."
      ],
      "metadata": {
        "id": "jot4D4VBKBTk"
      }
    },
    {
      "cell_type": "code",
      "source": [
        "import csv\n",
        "\n",
        "# Writing CSV with semicolon (;) delimiter\n",
        "with open('output.csv', 'w', newline='') as file:\n",
        "    writer = csv.writer(file, delimiter=';')\n",
        "    writer.writerow(['Name', 'Age'])\n",
        "    writer.writerow(['John', 25])\n",
        "    writer.writerow(['Alice', 32])"
      ],
      "metadata": {
        "id": "kRaSoTpKJ8wz"
      },
      "execution_count": 4,
      "outputs": []
    },
    {
      "cell_type": "markdown",
      "source": [
        "6. What function takes a string of JSON data and returns a Python data structure?\n",
        "- Ans: The function that takes a string of JSON data and returns a Python data structure is called json.loads()"
      ],
      "metadata": {
        "id": "iSbh-JyMMxII"
      }
    },
    {
      "cell_type": "code",
      "source": [
        "import json\n",
        "\n",
        "# JSON string\n",
        "json_data = '{\"name\": \"John\", \"age\": 25, \"city\": \"New York\"}'\n",
        "\n",
        "# Convert JSON string to Python data structure\n",
        "data = json.loads(json_data)\n",
        "\n",
        "# Access the data\n",
        "print(data['name'])\n",
        "print(data['age'])\n",
        "print(data['city'])\n"
      ],
      "metadata": {
        "colab": {
          "base_uri": "https://localhost:8080/"
        },
        "id": "so2mJSO4MSxt",
        "outputId": "7b9ab799-a12a-446d-e90f-65f166801eb2"
      },
      "execution_count": 10,
      "outputs": [
        {
          "output_type": "stream",
          "name": "stdout",
          "text": [
            "John\n",
            "25\n",
            "New York\n"
          ]
        }
      ]
    },
    {
      "cell_type": "markdown",
      "source": [
        "7. What function takes a Python data structure and returns a string of JSON data?\n",
        "- Ans:\n",
        " - The function that takes a Python data structure and returns a string of JSON data is called json.dumps()"
      ],
      "metadata": {
        "id": "A-X54qSYN3ox"
      }
    },
    {
      "cell_type": "code",
      "source": [
        "import json\n",
        "\n",
        "# Python data structure\n",
        "data = {\n",
        "    'name': 'John',\n",
        "    'age': 25,\n",
        "    'city': 'New York'\n",
        "}\n",
        "\n",
        "# Convert Python data structure to JSON string\n",
        "json_data = json.dumps(data)\n",
        "\n",
        "# Print the JSON string\n",
        "print(json_data)\n"
      ],
      "metadata": {
        "colab": {
          "base_uri": "https://localhost:8080/"
        },
        "id": "hS-PIWLrNSTl",
        "outputId": "25979a19-ac67-4553-a7af-420a4fbb2a32"
      },
      "execution_count": 12,
      "outputs": [
        {
          "output_type": "stream",
          "name": "stdout",
          "text": [
            "{\"name\": \"John\", \"age\": 25, \"city\": \"New York\"}\n"
          ]
        }
      ]
    },
    {
      "cell_type": "code",
      "source": [],
      "metadata": {
        "id": "2-NSRfQYN0a8"
      },
      "execution_count": null,
      "outputs": []
    }
  ]
}