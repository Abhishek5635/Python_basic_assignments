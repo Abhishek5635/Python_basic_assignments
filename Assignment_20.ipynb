{
  "nbformat": 4,
  "nbformat_minor": 0,
  "metadata": {
    "colab": {
      "provenance": [],
      "authorship_tag": "ABX9TyOCSM1jFFNDcIuczg0eHHhi",
      "include_colab_link": true
    },
    "kernelspec": {
      "name": "python3",
      "display_name": "Python 3"
    },
    "language_info": {
      "name": "python"
    }
  },
  "cells": [
    {
      "cell_type": "markdown",
      "metadata": {
        "id": "view-in-github",
        "colab_type": "text"
      },
      "source": [
        "<a href=\"https://colab.research.google.com/github/Abhishek5635/Python_basic_assignments/blob/main/Assignment_20.ipynb\" target=\"_parent\"><img src=\"https://colab.research.google.com/assets/colab-badge.svg\" alt=\"Open In Colab\"/></a>"
      ]
    },
    {
      "cell_type": "markdown",
      "source": [
        "1. Set the variable test1 to the string &#39;This is a test of the emergency text system,&#39; and save test1 to a\n",
        "file named test.txt."
      ],
      "metadata": {
        "id": "za7keVLLOGf6"
      }
    },
    {
      "cell_type": "code",
      "execution_count": 3,
      "metadata": {
        "id": "cRAY-QApOAfi"
      },
      "outputs": [],
      "source": [
        "test1 = \"This is a test of the emergency text system\"\n",
        "f = open('test.txt', 'a+')\n",
        "f.write(test1 + '\\n')\n",
        "f.close()"
      ]
    },
    {
      "cell_type": "markdown",
      "source": [
        "2. Read the contents of the file test.txt into the variable test2. Is there a difference between test 1\n",
        "and test 2?|"
      ],
      "metadata": {
        "id": "Fp4BaTrEPZBB"
      }
    },
    {
      "cell_type": "code",
      "source": [
        "# no differnce between test1 and test2\n",
        "f  = open('test.txt', 'r')\n",
        "test2=f.read()\n",
        "print(test2)\n",
        "f.close()"
      ],
      "metadata": {
        "colab": {
          "base_uri": "https://localhost:8080/"
        },
        "id": "pj9ycpc6ObsP",
        "outputId": "35ac2b25-5413-4cfa-bbd9-4d467c267a8f"
      },
      "execution_count": 4,
      "outputs": [
        {
          "output_type": "stream",
          "name": "stdout",
          "text": [
            "This is a test of the emergency text system\n",
            "\n"
          ]
        }
      ]
    },
    {
      "cell_type": "markdown",
      "source": [
        "3. Create a CSV file called books.csv by using these lines:\n",
        "- title,author,year\n",
        "- The Weirdstone of Brisingamen,Alan Garner,1960\n",
        "- Perdido Street Station,China Miéville,2000\n",
        "- Thud!,Terry Pratchett,2005\n",
        "- The Spellman Files,Lisa Lutz,2007\n",
        "- Small Gods,Terry Pratchett,1992"
      ],
      "metadata": {
        "id": "gwafkFOfQCKa"
      }
    },
    {
      "cell_type": "code",
      "source": [
        "import csv\n",
        "with open('books.csv', 'w+', newline = '') as f:\n",
        "  writer = csv.writer(f)\n",
        "  writer.writerow(['title', 'author', 'year'])\n",
        "  writer.writerow(['The Weirdstone of Brisingamen', 'Alan Garner', '1960'])\n",
        "  writer.writerow(['Perdido Street Station', 'China Miéville', '2000'])\n",
        "  writer.writerow(['Thud!', 'Terry Pratchett', '2005'])\n",
        "  writer.writerow(['The Spellman Files', 'Lisa Lutz', '2007'])\n",
        "  writer.writerow(['Small Gods', 'Terry Pratchett', '1992'])\n",
        "  f.seek(0)\n",
        "  print(f.read())\n",
        "  f.close()\n"
      ],
      "metadata": {
        "colab": {
          "base_uri": "https://localhost:8080/"
        },
        "id": "HDFzDN83Prkb",
        "outputId": "2146eb62-428c-463a-b2d8-b69f0782f51b"
      },
      "execution_count": 5,
      "outputs": [
        {
          "output_type": "stream",
          "name": "stdout",
          "text": [
            "title,author,year\r\n",
            "The Weirdstone of Brisingamen,Alan Garner,1960\r\n",
            "Perdido Street Station,China Miéville,2000\r\n",
            "Thud!,Terry Pratchett,2005\r\n",
            "The Spellman Files,Lisa Lutz,2007\r\n",
            "Small Gods,Terry Pratchett,1992\r\n",
            "\n"
          ]
        }
      ]
    },
    {
      "cell_type": "markdown",
      "source": [
        "4. Use the sqlite3 module to create a SQLite database called books.db, and a table called books with\n",
        "these fields: title (text), author (text), and year (integer)."
      ],
      "metadata": {
        "id": "Xtlfqf3ETdv6"
      }
    },
    {
      "cell_type": "code",
      "source": [
        "import sqlite3\n",
        "\n",
        "# Connect to the database (or create if it doesn't exist)\n",
        "conn = sqlite3.connect('books.db')\n",
        "\n",
        "# Create a cursor object to execute SQL commands\n",
        "cursor = conn.cursor()\n",
        "\n",
        "# Create the books table if it doesn't exist\n",
        "cursor.execute('''CREATE TABLE IF NOT EXISTS books (\n",
        "                    title TEXT,\n",
        "                    author TEXT,\n",
        "                    year INTEGER\n",
        "                )''')\n",
        "\n",
        "# Define the values to insert\n",
        "values = ('The Weirdstone of Brisingamen', 'Alan Garner', 1960)\n",
        "\n",
        "# Execute the INSERT statement\n",
        "cursor.execute(\"INSERT INTO books (title, author, year) VALUES (?, ?, ?)\", values)\n",
        "# Commit the changes and close the connection\n",
        "\n"
      ],
      "metadata": {
        "colab": {
          "base_uri": "https://localhost:8080/"
        },
        "id": "NmOfGpZpSC3S",
        "outputId": "d3d503f0-696f-4a6f-b08a-c7976827bdb4"
      },
      "execution_count": 6,
      "outputs": [
        {
          "output_type": "execute_result",
          "data": {
            "text/plain": [
              "<sqlite3.Cursor at 0x7a1b99aabbc0>"
            ]
          },
          "metadata": {},
          "execution_count": 6
        }
      ]
    },
    {
      "cell_type": "markdown",
      "source": [
        "5. Read books.csv and insert its data into the book table."
      ],
      "metadata": {
        "id": "xRgldO-vncwL"
      }
    },
    {
      "cell_type": "code",
      "source": [
        "import csv\n",
        "# Read data from books.csv and insert into the table\n",
        "with open('books.csv') as f:\n",
        "  reader = csv.reader(f)\n",
        "  for row in reader:\n",
        "    cursor.execute(\"insert into books (title, author, year) values (?,?,?)\", row)\n",
        "conn.commit()\n",
        "conn.close()"
      ],
      "metadata": {
        "id": "pUAJr2egmMR2"
      },
      "execution_count": 7,
      "outputs": []
    },
    {
      "cell_type": "markdown",
      "source": [
        "6. Select and print the title column from the book table in alphabetical order."
      ],
      "metadata": {
        "id": "mZRCKlYrq738"
      }
    },
    {
      "cell_type": "code",
      "source": [
        "# Connect to the database\n",
        "conn = sqlite3.connect('books.db')\n",
        "cursor = conn.cursor()\n",
        "\n",
        "# Select and print the title column in alphabetical order\n",
        "cursor.execute(\"SELECT title FROM books ORDER BY title ASC\")\n",
        "titles = cursor.fetchall()\n",
        "\n",
        "for title in titles:\n",
        "    print(title[0])\n",
        "\n",
        "# Close the connection\n",
        "conn.close()"
      ],
      "metadata": {
        "colab": {
          "base_uri": "https://localhost:8080/"
        },
        "id": "thq_Z9e9nzbg",
        "outputId": "3e459a59-2868-449f-8ff3-40cb4cd1ddd7"
      },
      "execution_count": 8,
      "outputs": [
        {
          "output_type": "stream",
          "name": "stdout",
          "text": [
            "Perdido Street Station\n",
            "Small Gods\n",
            "The Spellman Files\n",
            "The Weirdstone of Brisingamen\n",
            "The Weirdstone of Brisingamen\n",
            "Thud!\n",
            "title\n"
          ]
        }
      ]
    },
    {
      "cell_type": "markdown",
      "source": [
        "7. From the book table, select and print all columns in the order of publication."
      ],
      "metadata": {
        "id": "fkzfp2mhrnZg"
      }
    },
    {
      "cell_type": "code",
      "source": [
        "import sqlite3\n",
        "\n",
        "# Connect to the database\n",
        "conn = sqlite3.connect('books.db')\n",
        "cursor = conn.cursor()\n",
        "\n",
        "# Select and print all columns in the order of publication\n",
        "cursor.execute(\"SELECT * FROM books ORDER BY year ASC\")\n",
        "rows = cursor.fetchall()\n",
        "\n",
        "for row in rows:\n",
        "    print(row)\n",
        "\n",
        "# Close the connection\n",
        "conn.close()\n"
      ],
      "metadata": {
        "colab": {
          "base_uri": "https://localhost:8080/"
        },
        "id": "AZQZtsPorQg_",
        "outputId": "58e102f5-7955-4abe-eaa0-9974f28e28cd"
      },
      "execution_count": 9,
      "outputs": [
        {
          "output_type": "stream",
          "name": "stdout",
          "text": [
            "('The Weirdstone of Brisingamen', 'Alan Garner', 1960)\n",
            "('The Weirdstone of Brisingamen', 'Alan Garner', 1960)\n",
            "('Small Gods', 'Terry Pratchett', 1992)\n",
            "('Perdido Street Station', 'China Miéville', 2000)\n",
            "('Thud!', 'Terry Pratchett', 2005)\n",
            "('The Spellman Files', 'Lisa Lutz', 2007)\n",
            "('title', 'author', 'year')\n"
          ]
        }
      ]
    },
    {
      "cell_type": "markdown",
      "source": [
        "8. Use the sqlalchemy module to connect to the sqlite3 database books.db that you just made in\n",
        "exercise 6."
      ],
      "metadata": {
        "id": "ihDc48PIr65B"
      }
    },
    {
      "cell_type": "code",
      "source": [
        "\n",
        "!pip install sqlalchemy\n"
      ],
      "metadata": {
        "colab": {
          "base_uri": "https://localhost:8080/"
        },
        "id": "qNUyZoOZU27q",
        "outputId": "f2e6ed2d-0423-41a8-9e1b-11c70e6fc4ac"
      },
      "execution_count": 13,
      "outputs": [
        {
          "output_type": "stream",
          "name": "stdout",
          "text": [
            "Requirement already satisfied: sqlalchemy in /usr/local/lib/python3.10/dist-packages (2.0.19)\n",
            "Requirement already satisfied: typing-extensions>=4.2.0 in /usr/local/lib/python3.10/dist-packages (from sqlalchemy) (4.7.1)\n",
            "Requirement already satisfied: greenlet!=0.4.17 in /usr/local/lib/python3.10/dist-packages (from sqlalchemy) (2.0.2)\n"
          ]
        }
      ]
    },
    {
      "cell_type": "code",
      "source": [
        "import sqlalchemy\n",
        "from sqlalchemy import create_engine, MetaData, Table, Column, Integer, String, text\n",
        "\n",
        "# Step 1: Create the SQLite database engine\n",
        "# The URL format for SQLite: 'sqlite:///path/to/database'\n",
        "# For in-memory database: 'sqlite:///:memory:'\n",
        "engine = create_engine('sqlite:///books.db', echo=True)  # Set 'echo=True' for logging SQL statements\n",
        "\n",
        "# Step 2: Define metadata and table structure (optional, but useful for schema management)\n",
        "metadata = MetaData()\n",
        "books_table = Table(\n",
        "    'books',\n",
        "    metadata,\n",
        "    Column('id', Integer, primary_key=True),\n",
        "    Column('title', String),\n",
        "    Column('author', String),\n",
        "    Column('published_year', Integer)\n",
        ")\n",
        "\n",
        "# Step 3: Connect to the database\n",
        "connection = engine.connect()\n",
        "\n",
        "# Step 4: Create a compiled SQL statement using the SQLAlchemy 'text' object\n",
        "query = text('SELECT * FROM books')\n",
        "\n",
        "# Step 5: Execute the query and fetch results\n",
        "result = connection.execute(query)\n",
        "for row in result:\n",
        "    print(row)\n",
        "\n",
        "# Step 6: Close the connection when done\n",
        "connection.close()\n"
      ],
      "metadata": {
        "id": "qfHcb-0_r1th",
        "colab": {
          "base_uri": "https://localhost:8080/"
        },
        "outputId": "4b5343d4-bda3-42f7-edc5-ce6cc9f267a6"
      },
      "execution_count": 18,
      "outputs": [
        {
          "output_type": "stream",
          "name": "stdout",
          "text": [
            "2023-07-22 06:42:37,699 INFO sqlalchemy.engine.Engine BEGIN (implicit)\n"
          ]
        },
        {
          "output_type": "stream",
          "name": "stderr",
          "text": [
            "INFO:sqlalchemy.engine.Engine:BEGIN (implicit)\n"
          ]
        },
        {
          "output_type": "stream",
          "name": "stdout",
          "text": [
            "2023-07-22 06:42:37,705 INFO sqlalchemy.engine.Engine SELECT * FROM books\n"
          ]
        },
        {
          "output_type": "stream",
          "name": "stderr",
          "text": [
            "INFO:sqlalchemy.engine.Engine:SELECT * FROM books\n"
          ]
        },
        {
          "output_type": "stream",
          "name": "stdout",
          "text": [
            "2023-07-22 06:42:37,709 INFO sqlalchemy.engine.Engine [generated in 0.01020s] ()\n"
          ]
        },
        {
          "output_type": "stream",
          "name": "stderr",
          "text": [
            "INFO:sqlalchemy.engine.Engine:[generated in 0.01020s] ()\n"
          ]
        },
        {
          "output_type": "stream",
          "name": "stdout",
          "text": [
            "('The Weirdstone of Brisingamen', 'Alan Garner', 1960)\n",
            "('title', 'author', 'year')\n",
            "('The Weirdstone of Brisingamen', 'Alan Garner', 1960)\n",
            "('Perdido Street Station', 'China Miéville', 2000)\n",
            "('Thud!', 'Terry Pratchett', 2005)\n",
            "('The Spellman Files', 'Lisa Lutz', 2007)\n",
            "('Small Gods', 'Terry Pratchett', 1992)\n",
            "2023-07-22 06:42:37,717 INFO sqlalchemy.engine.Engine ROLLBACK\n"
          ]
        },
        {
          "output_type": "stream",
          "name": "stderr",
          "text": [
            "INFO:sqlalchemy.engine.Engine:ROLLBACK\n"
          ]
        }
      ]
    },
    {
      "cell_type": "markdown",
      "source": [
        "9. Install the Redis server and the Python redis library (pip install redis) on your computer. Create a\n",
        "Redis hash called test with the fields count (1) and name (&#39;Fester Bestertester&#39;). Print all the fields for\n",
        "test."
      ],
      "metadata": {
        "id": "CWNTxAdMVlty"
      }
    },
    {
      "cell_type": "code",
      "source": [
        "!pip install redis\n"
      ],
      "metadata": {
        "colab": {
          "base_uri": "https://localhost:8080/"
        },
        "id": "cnWuvqa2UzSi",
        "outputId": "da81127c-1c5e-47ab-c2f0-d0c23a9fba2f"
      },
      "execution_count": 19,
      "outputs": [
        {
          "output_type": "stream",
          "name": "stdout",
          "text": [
            "Collecting redis\n",
            "  Downloading redis-4.6.0-py3-none-any.whl (241 kB)\n",
            "\u001b[?25l     \u001b[90m━━━━━━━━━━━━━━━━━━━━━━━━━━━━━━━━━━━━━━━━\u001b[0m \u001b[32m0.0/241.1 kB\u001b[0m \u001b[31m?\u001b[0m eta \u001b[36m-:--:--\u001b[0m\r\u001b[2K     \u001b[91m━━━━━━\u001b[0m\u001b[91m╸\u001b[0m\u001b[90m━━━━━━━━━━━━━━━━━━━━━━━━━━━━━━━━━\u001b[0m \u001b[32m41.0/241.1 kB\u001b[0m \u001b[31m1.2 MB/s\u001b[0m eta \u001b[36m0:00:01\u001b[0m\r\u001b[2K     \u001b[90m━━━━━━━━━━━━━━━━━━━━━━━━━━━━━━━━━━━━━━━\u001b[0m \u001b[32m241.1/241.1 kB\u001b[0m \u001b[31m3.5 MB/s\u001b[0m eta \u001b[36m0:00:00\u001b[0m\n",
            "\u001b[?25hRequirement already satisfied: async-timeout>=4.0.2 in /usr/local/lib/python3.10/dist-packages (from redis) (4.0.2)\n",
            "Installing collected packages: redis\n",
            "Successfully installed redis-4.6.0\n"
          ]
        }
      ]
    },
    {
      "cell_type": "code",
      "source": [
        "import redis\n",
        "\n",
        "# Step 1: Connect to the Redis server\n",
        "redis_host = 'your_redis_server_ip'  # Replace with the IP/hostname of your Redis server\n",
        "redis_port = 6379  # Default Redis port\n",
        "redis_db = 0  # Default Redis database number\n",
        "redis_client = redis.StrictRedis(host=redis_host, port=redis_port, db=redis_db)\n",
        "\n",
        "# Step 2: Create the Redis hash 'test' with fields 'count' and 'name'\n",
        "redis_client.hset('test', 'count', 1)\n",
        "redis_client.hset('test', 'name', 'Fester Bestertester')\n",
        "\n",
        "# Step 3: Print all the fields for the 'test' hash\n",
        "test_data = redis_client.hgetall('test')\n",
        "print(\"All fields for 'test':\")\n",
        "for field, value in test_data.items():\n",
        "    print(f\"{field.decode('utf-8')}: {value.decode('utf-8')}\")\n"
      ],
      "metadata": {
        "id": "fQbsVMsuV7_h"
      },
      "execution_count": null,
      "outputs": []
    },
    {
      "cell_type": "markdown",
      "source": [
        "Increment the count field of test and print it."
      ],
      "metadata": {
        "id": "WvxEycD9Wa_f"
      }
    },
    {
      "cell_type": "code",
      "source": [
        "import redis\n",
        "\n",
        "# Step 1: Connect to the Redis server\n",
        "redis_host = 'your_redis_server_ip'  # Replace with the IP/hostname of your Redis server\n",
        "redis_port = 6379  # Default Redis port\n",
        "redis_db = 0  # Default Redis database number\n",
        "redis_client = redis.StrictRedis(host=redis_host, port=redis_port, db=redis_db)\n",
        "\n",
        "# Step 2: Increment the 'count' field in the 'test' hash\n",
        "increment_by = 1\n",
        "new_count = redis_client.hincrby('test', 'count', increment_by)\n",
        "\n",
        "# Step 3: Print the updated count\n",
        "print(\"Updated count:\", new_count)\n"
      ],
      "metadata": {
        "id": "WYAK6o_eWb6J"
      },
      "execution_count": null,
      "outputs": []
    }
  ]
}