{
  "nbformat": 4,
  "nbformat_minor": 0,
  "metadata": {
    "colab": {
      "provenance": [],
      "authorship_tag": "ABX9TyNELIeJhSUey7YvKoVW93Bw",
      "include_colab_link": true
    },
    "kernelspec": {
      "name": "python3",
      "display_name": "Python 3"
    },
    "language_info": {
      "name": "python"
    }
  },
  "cells": [
    {
      "cell_type": "markdown",
      "metadata": {
        "id": "view-in-github",
        "colab_type": "text"
      },
      "source": [
        "<a href=\"https://colab.research.google.com/github/Abhishek5635/Python_basic_assignments/blob/main/assignment_14.ipynb\" target=\"_parent\"><img src=\"https://colab.research.google.com/assets/colab-badge.svg\" alt=\"Open In Colab\"/></a>"
      ]
    },
    {
      "cell_type": "markdown",
      "source": [
        "1. What does RGBA stand for?\n",
        "- Ans:\n",
        " - RGBA stands for Red Green Blue Alpha. It is a color model used in computer graphics to represent colors. The RGBA model is an extension of the RGB model, which uses three primary colors (red, green, and blue) to create a wide range of colors. The additional \"A\" in RGBA represents the alpha channel, which represents the opacity or transparency of a color."
      ],
      "metadata": {
        "id": "wAwnnTE-KbqW"
      }
    },
    {
      "cell_type": "markdown",
      "source": [
        "2. From the Pillow module, how do you get the RGBA value of any images?\n"
      ],
      "metadata": {
        "id": "JzCTx6-GLyc5"
      }
    },
    {
      "cell_type": "code",
      "execution_count": null,
      "metadata": {
        "id": "Wh0w3-ljHocP"
      },
      "outputs": [],
      "source": [
        "#install the pilow module\n",
        "pip install Pillow\n",
        "from PIL import Image\n",
        "image = Image.open(\"path_to_image.png\")\n",
        "#converting image data into RGBA format\n",
        "image = image.convert(\"RGBA\")\n",
        "rgba_data = list(image.getdata())\n",
        "print(rgba_data)\n",
        "\n"
      ]
    },
    {
      "cell_type": "markdown",
      "source": [
        "3. What is a box tuple, and how does it work?\n",
        "- Ans:\n",
        " - In the context of the Pillow module in Python, a box tuple refers to a tuple that defines a rectangular region or box. It is commonly used to specify areas of interest within an image, such as cropping, pasting, or applying transformations.\n",
        "\n",
        "A box tuple typically consists of four values: (left, upper, right, lower)"
      ],
      "metadata": {
        "id": "FjOQZFP_MShY"
      }
    },
    {
      "cell_type": "code",
      "source": [
        "from PIL import Image\n",
        "\n",
        "# Open the image\n",
        "image = Image.open(\"input_image.jpg\")\n",
        "\n",
        "# Define the box tuple for cropping\n",
        "box = (100, 100, 400, 400)\n",
        "\n",
        "# Crop the image using the box tuple\n",
        "cropped_image = image.crop(box)\n",
        "\n",
        "# Save the cropped image\n",
        "cropped_image.save(\"output_image.jpg\")\n"
      ],
      "metadata": {
        "id": "mYRJ_5m0NOu0"
      },
      "execution_count": null,
      "outputs": []
    },
    {
      "cell_type": "markdown",
      "source": [
        "4. Use your image and load in notebook then, How can you find out the width and height of an\n",
        "Image object?"
      ],
      "metadata": {
        "id": "gEgfp-EINZHb"
      }
    },
    {
      "cell_type": "code",
      "source": [
        "from PIL import Image\n",
        "\n",
        "# Load the image\n",
        "image = Image.open(\"/content/sample_data/images.jpg\")\n",
        "\n",
        "# Get the width and height of the image\n",
        "width, height = image.size\n",
        "\n",
        "# Display the width and height\n",
        "print(\"Image width:\", width)\n",
        "print(\"Image height:\", height)\n"
      ],
      "metadata": {
        "colab": {
          "base_uri": "https://localhost:8080/"
        },
        "id": "Fs15Lsk-NaAH",
        "outputId": "51374ddb-e91d-463a-ff6e-008db4eef6c1"
      },
      "execution_count": 4,
      "outputs": [
        {
          "output_type": "stream",
          "name": "stdout",
          "text": [
            "Image width: 200\n",
            "Image height: 252\n"
          ]
        }
      ]
    },
    {
      "cell_type": "markdown",
      "source": [
        "5. What method would you call to get Image object for a 100×100 image, excluding the lower-left\n",
        "quarter of it?\n",
        "- ans:\n",
        " -\n",
        "To get an Image object for a 100×100 image, excluding the lower-left quarter of it, we can use the crop() method from the Pillow module\n",
        "\n"
      ],
      "metadata": {
        "id": "kB9ilIk6ORu-"
      }
    },
    {
      "cell_type": "code",
      "source": [
        "from PIL import Image\n",
        "\n",
        "# Load the original image\n",
        "image = Image.open(\"/content/sample_data/images.jpg\")\n",
        "\n",
        "# Define the box tuple for the upper-right three-quarters of the image\n",
        "box = (0, 0, 100, 100)\n",
        "\n",
        "# Crop the image using the box tuple\n",
        "cropped_image = image.crop(box)\n",
        "\n",
        "# Display the cropped image\n",
        "cropped_image.show()\n",
        "cropped_image.size\n"
      ],
      "metadata": {
        "colab": {
          "base_uri": "https://localhost:8080/",
          "height": 135
        },
        "id": "KFkPESCLPP1X",
        "outputId": "6bd644a9-6ae4-4624-b8b8-d55465c68d57"
      },
      "execution_count": 9,
      "outputs": [
        {
          "output_type": "display_data",
          "data": {
            "text/plain": [
              "<PIL.Image.Image image mode=RGB size=100x100 at 0x7FC836CBF700>"
            ],
            "image/png": "[encoded data removed]"
          },
          "metadata": {}
        },
        {
          "output_type": "execute_result",
          "data": {
            "text/plain": [
              "(100, 100)"
            ]
          },
          "metadata": {},
          "execution_count": 9
        }
      ]
    },
    {
      "cell_type": "markdown",
      "source": [
        "6. After making changes to an Image object, how could you save it as an image file?\n",
        "-\n",
        "After making changes to an Image object using the Pillow module in Python, you can save it as an image file using the save() method"
      ],
      "metadata": {
        "id": "4x9vWhwLQXG_"
      }
    },
    {
      "cell_type": "code",
      "source": [
        "# Load the original image\n",
        "image = Image.open(\"/content/sample_data/images.jpg\")\n",
        "\n",
        "# Define the box tuple for the upper-right three-quarters of the image\n",
        "box = (0, 0, 100, 100)\n",
        "\n",
        "# Crop the image using the box tuple\n",
        "cropped_image = image.crop(box)\n",
        "\n",
        "# Display the cropped image\n",
        "cropped_image.show()\n",
        "cropped_image.size\n",
        "\n",
        "#saving the crop image\n",
        "cropped_image.save('output.jpg')"
      ],
      "metadata": {
        "colab": {
          "base_uri": "https://localhost:8080/",
          "height": 117
        },
        "id": "s6CvDDGWPlMP",
        "outputId": "af27ac6b-d9fa-464c-a8de-668cebbfe8cb"
      },
      "execution_count": 10,
      "outputs": [
        {
          "output_type": "display_data",
          "data": {
            "text/plain": [
              "<PIL.Image.Image image mode=RGB size=100x100 at 0x7FC837766170>"
            ],
            "image/png": "[encoded data removed]"
          },
          "metadata": {}
        }
      ]
    },
    {
      "cell_type": "markdown",
      "source": [
        "7. What module contains Pillow’s shape-drawing code?\n",
        "- Pillow's shape-drawing code can be found in the ImageDraw module. The ImageDraw module is a part of the Pillow library and provides functionality for drawing shapes, lines, and text on an Image object."
      ],
      "metadata": {
        "id": "etfwsZM5Q_r3"
      }
    },
    {
      "cell_type": "code",
      "source": [
        "from PIL import Image, ImageDraw\n",
        "\n",
        "# Create a new image\n",
        "image = Image.new(\"RGB\", (500, 500), (255, 255, 255))\n",
        "\n",
        "# Create an ImageDraw object\n",
        "draw = ImageDraw.Draw(image)\n",
        "\n",
        "# Draw a rectangle\n",
        "rectangle = (100, 100, 400, 400)\n",
        "draw.rectangle(rectangle, outline=(0, 0, 0), width=2)\n",
        "image.show()"
      ],
      "metadata": {
        "colab": {
          "base_uri": "https://localhost:8080/",
          "height": 517
        },
        "id": "YUBhY8klPuH3",
        "outputId": "509c3302-f8ea-44e9-fa12-b1dc54a2b5f3"
      },
      "execution_count": 12,
      "outputs": [
        {
          "output_type": "display_data",
          "data": {
            "text/plain": [
              "<PIL.Image.Image image mode=RGB size=500x500 at 0x7FC837764CD0>"
            ],
            "image/png": "[encoded data removed]"
          },
          "metadata": {}
        }
      ]
    },
    {
      "cell_type": "markdown",
      "source": [
        "8. Image objects do not have drawing methods. What kind of object does? How do you get this kind\n",
        "of object?\n",
        " - Image objects themselves do not have built-in drawing methods. To perform drawing operations on an image, you need to use the ImageDraw module, which provides a separate object with drawing methods.\n",
        "\n",
        "The ImageDraw module provides the ImageDraw.Draw class, which is specifically designed for drawing on Image objects. You can obtain an ImageDraw.Draw object by calling the ImageDraw.Draw() function and passing the Image object as an argument"
      ],
      "metadata": {
        "id": "WbZW6TPNS6-4"
      }
    },
    {
      "cell_type": "code",
      "source": [
        "from PIL import Image, ImageDraw\n",
        "\n",
        "# Open the image\n",
        "image = Image.open(\"/content/sample_data/images.jpg\")\n",
        "\n",
        "# Create an ImageDraw.Draw object\n",
        "draw = ImageDraw.Draw(image)\n"
      ],
      "metadata": {
        "id": "GnB2CaV6SoqX"
      },
      "execution_count": 13,
      "outputs": []
    },
    {
      "cell_type": "code",
      "source": [],
      "metadata": {
        "id": "R2MeHBZ6TWJX"
      },
      "execution_count": null,
      "outputs": []
    }
  ]
}