{
  "nbformat": 4,
  "nbformat_minor": 0,
  "metadata": {
    "colab": {
      "provenance": [],
      "authorship_tag": "ABX9TyNs0jd2y5gyj4mfg5BBr+AQ",
      "include_colab_link": true
    },
    "kernelspec": {
      "name": "python3",
      "display_name": "Python 3"
    },
    "language_info": {
      "name": "python"
    }
  },
  "cells": [
    {
      "cell_type": "markdown",
      "metadata": {
        "id": "view-in-github",
        "colab_type": "text"
      },
      "source": [
        "<a href=\"https://colab.research.google.com/github/Abhishek5635/Python_basic_assignments/blob/main/Pyinput_plus_assignment8.ipynb\" target=\"_parent\"><img src=\"https://colab.research.google.com/assets/colab-badge.svg\" alt=\"Open In Colab\"/></a>"
      ]
    },
    {
      "cell_type": "markdown",
      "source": [
        "1. Is the Python Standard Library included with PyInputPlus?\n",
        "- Ans : PyInputPlus is not part of the Python Standard Library, so you cannot import it using the standard library modules. PyInputPlus is a separate third-party library that provides additional functionality for handling user input in Python."
      ],
      "metadata": {
        "id": "duP3rH0dwlAO"
      }
    },
    {
      "cell_type": "code",
      "execution_count": 2,
      "metadata": {
        "colab": {
          "base_uri": "https://localhost:8080/"
        },
        "id": "S3fnHdF9vp0G",
        "outputId": "f21ad623-7af4-4cf2-ee2a-379a361e7b52"
      },
      "outputs": [
        {
          "output_type": "stream",
          "name": "stdout",
          "text": [
            "Looking in indexes: https://pypi.org/simple, https://us-python.pkg.dev/colab-wheels/public/simple/\n",
            "Collecting pyinputplus\n",
            "  Downloading PyInputPlus-0.2.12.tar.gz (20 kB)\n",
            "  Installing build dependencies ... \u001b[?25l\u001b[?25hdone\n",
            "  Getting requirements to build wheel ... \u001b[?25l\u001b[?25hdone\n",
            "  Preparing metadata (pyproject.toml) ... \u001b[?25l\u001b[?25hdone\n",
            "Collecting pysimplevalidate>=0.2.7 (from pyinputplus)\n",
            "  Downloading PySimpleValidate-0.2.12.tar.gz (22 kB)\n",
            "  Installing build dependencies ... \u001b[?25l\u001b[?25hdone\n",
            "  Getting requirements to build wheel ... \u001b[?25l\u001b[?25hdone\n",
            "  Preparing metadata (pyproject.toml) ... \u001b[?25l\u001b[?25hdone\n",
            "Collecting stdiomask>=0.0.3 (from pyinputplus)\n",
            "  Downloading stdiomask-0.0.6.tar.gz (3.6 kB)\n",
            "  Installing build dependencies ... \u001b[?25l\u001b[?25hdone\n",
            "  Getting requirements to build wheel ... \u001b[?25l\u001b[?25hdone\n",
            "  Preparing metadata (pyproject.toml) ... \u001b[?25l\u001b[?25hdone\n",
            "Building wheels for collected packages: pyinputplus, pysimplevalidate, stdiomask\n",
            "  Building wheel for pyinputplus (pyproject.toml) ... \u001b[?25l\u001b[?25hdone\n",
            "  Created wheel for pyinputplus: filename=PyInputPlus-0.2.12-py3-none-any.whl size=11297 sha256=7396e7c764e741aa73820553736c89b2b046f6b1ce6025d2060f6800664a55a3\n",
            "  Stored in directory: /root/.cache/pip/wheels/13/ec/a5/f780c8008b74e885aada43369ebf4d350edfd12bb5909ccb23\n",
            "  Building wheel for pysimplevalidate (pyproject.toml) ... \u001b[?25l\u001b[?25hdone\n",
            "  Created wheel for pysimplevalidate: filename=PySimpleValidate-0.2.12-py3-none-any.whl size=16176 sha256=3c4e3fde6672b4b995ba273fa27e8c1a0fd632720ee920cedb8546edcba80ae4\n",
            "  Stored in directory: /root/.cache/pip/wheels/64/29/c9/2ee861e5b0775e289013b7c7157e0bdcea3a1b844f835b2eb8\n",
            "  Building wheel for stdiomask (pyproject.toml) ... \u001b[?25l\u001b[?25hdone\n",
            "  Created wheel for stdiomask: filename=stdiomask-0.0.6-py3-none-any.whl size=3306 sha256=df052ce3e2c6129e06392a4e4909602965bb26a1f3f140afffda4b8df77c7ee6\n",
            "  Stored in directory: /root/.cache/pip/wheels/6c/00/4b/0715696f101d7376f67a83cf3d545feb8c241eeee75b80bb6f\n",
            "Successfully built pyinputplus pysimplevalidate stdiomask\n",
            "Installing collected packages: stdiomask, pysimplevalidate, pyinputplus\n",
            "Successfully installed pyinputplus-0.2.12 pysimplevalidate-0.2.12 stdiomask-0.0.6\n"
          ]
        }
      ],
      "source": [
        "# we need to install pyinputplus and then we have import it\n",
        "!pip install pyinputplus\n"
      ]
    },
    {
      "cell_type": "markdown",
      "source": [
        "2. Why is PyInputPlus commonly imported with import pyinputplus as pypi?\n",
        "- Ans :\n",
        "Importing PyInputPlus with the alias pypi is a convention that follow for brevity and convenience. By using the alias, pypi, it shortens the name of the module when referencing it in the code, making it quicker to type and reducing the chances of name conflicts with other modules or variables in the codebase."
      ],
      "metadata": {
        "id": "xM1ErY4QxroL"
      }
    },
    {
      "cell_type": "markdown",
      "source": [
        "3. How do you distinguish between inputInt() and inputFloat()?\n",
        "- Ans : The PyInputPlus library provides two functions, inputInt() and inputFloat(), for obtaining integer and floating-point user inputs\n",
        "- inputInt(): This function is used to get integer input from the user. If the user enters a non-integer value, it will prompt the user to enter a valid integer value until the input is successfully converted to an integer\n",
        "- inputFloat(): This function is used to get floating-point input from the user. Similar to inputInt(), if the user enters a non-floating-point value, it will keep prompting the user until a valid floating-point value is entere"
      ],
      "metadata": {
        "id": "jWcZEFn5yBun"
      }
    },
    {
      "cell_type": "code",
      "source": [
        "import pyinputplus as pypi\n",
        "# input as integer]\n",
        "number = pypi.inputInt(\"Enter a int value : \")\n",
        "print(number)\n",
        "\n",
        "# input as float\n",
        "num = pypi.inputFloat(\"Enter a float valure : \")\n",
        "print(num)"
      ],
      "metadata": {
        "colab": {
          "base_uri": "https://localhost:8080/"
        },
        "id": "LgHCxdZ-w-0R",
        "outputId": "b3cf41eb-03d8-455c-b058-8f584ec8182a"
      },
      "execution_count": 4,
      "outputs": [
        {
          "output_type": "stream",
          "name": "stdout",
          "text": [
            "Enter a int value : 2.5\n",
            "'2.5' is not an integer.\n",
            "Enter a int value : 2.3\n",
            "'2.3' is not an integer.\n",
            "Enter a int value : 5\n",
            "5\n",
            "Enter a float valure : d\n",
            "'d' is not a float.\n",
            "Enter a float valure : 5.2\n",
            "5.2\n"
          ]
        }
      ]
    },
    {
      "cell_type": "markdown",
      "source": [
        "4. Using PyInputPlus, how do you ensure that the user enters a whole number between 0 and 99?\n",
        "- Ans :\n",
        "To ensure that the user enters a whole number between 0 and 99 using PyInputPlus, you can use the inputInt() function with additional arguments to enforce the range and integer validation.\n",
        "- that is min argument and max argument"
      ],
      "metadata": {
        "id": "wt1DYmWzzgUv"
      }
    },
    {
      "cell_type": "code",
      "source": [
        "num = pypi.inputInt(\"enter the number between 0 to 99 : \", min =0, max= 99)\n",
        "print(num)"
      ],
      "metadata": {
        "colab": {
          "base_uri": "https://localhost:8080/"
        },
        "id": "AQEvPG44y6i-",
        "outputId": "0eca602a-9508-4138-be60-10764cf6689a"
      },
      "execution_count": 9,
      "outputs": [
        {
          "output_type": "stream",
          "name": "stdout",
          "text": [
            "enter the number between 0 to 99 : 122\n",
            "Number must be at maximum 99.\n",
            "enter the number between 0 to 99 : 0.5\n",
            "'0.5' is not an integer.\n",
            "enter the number between 0 to 99 : -1\n",
            "Number must be at minimum 0.\n",
            "enter the number between 0 to 99 : 99\n",
            "99\n"
          ]
        }
      ]
    },
    {
      "cell_type": "markdown",
      "source": [
        "5. What is transferred to the keyword arguments allowRegexes and blockRegexes?\n",
        "- Ans :\n",
        "- allowRegexes: This argument accepts a list of regular expressions. When provided, PyInputPlus will only consider input values that match at least one of the regular expressions in the allowRegexes list as valid input. Input values that do not match any of the specified regular expressions will be rejected.\n",
        "\n",
        "- blockRegexes: This argument also accepts a list of regular expressions. If any input value matches any of the regular expressions in the blockRegexes list, PyInputPlus will consider it invalid and prompt the user to enter a different value.\n",
        "\n"
      ],
      "metadata": {
        "id": "n6ijgxXt1VSu"
      }
    },
    {
      "cell_type": "markdown",
      "source": [
        "6. If a blank input is entered three times, what does inputStr(limit=3) do?\n",
        "- Ans : The inputStr(limit=3) function in PyInputPlus is used to prompt the user for input and limits the number of allowed blank inputs. If a blank input is entered three times consecutively, the function will raise a RetryLimitException"
      ],
      "metadata": {
        "id": "yGRH2e10IGp0"
      }
    },
    {
      "cell_type": "code",
      "source": [
        "import pyinputplus as pypi\n",
        "\n",
        "try:\n",
        "    text = pypi.inputStr(\"Enter some text (limit=3): \", limit=3)\n",
        "    print(\"You entered:\", text)\n",
        "except pypi.RetryLimitException:\n",
        "    print(\"Retry limit exceeded. Blank input not allowed anymore.\")"
      ],
      "metadata": {
        "colab": {
          "base_uri": "https://localhost:8080/"
        },
        "id": "-gKVAQwh0PWr",
        "outputId": "4d1ae4e0-9edd-415c-ee31-ce5940845c64"
      },
      "execution_count": 34,
      "outputs": [
        {
          "output_type": "stream",
          "name": "stdout",
          "text": [
            "Enter some text (limit=3):  \n",
            "Blank values are not allowed.\n",
            "Enter some text (limit=3): \n",
            "Blank values are not allowed.\n",
            "Enter some text (limit=3):  \n",
            "Blank values are not allowed.\n",
            "Retry limit exceeded. Blank input not allowed anymore.\n"
          ]
        }
      ]
    },
    {
      "cell_type": "markdown",
      "source": [
        "7. If blank input is entered three times, what does inputStr(limit=3, default=&#39;hello&#39;) do?\n",
        "- Ans : The inputStr(limit=3, default='hello') function in PyInputPlus is similar to the previous example, but with the addition of a default value. If a blank input is entered three times consecutively, instead of raising a RetryLimitException, the function will return the specified default value, which in this case is 'hello'\n",
        "- hello is assgined to text object"
      ],
      "metadata": {
        "id": "gVUeVzQmJk8M"
      }
    },
    {
      "cell_type": "code",
      "source": [
        " import pyinputplus as pypi\n",
        "\n",
        "text = pypi.inputStr(\"Enter some text (limit=3, default='hello'): \", limit=3, default='hello')\n",
        "print(\"You entered:\", text)\n"
      ],
      "metadata": {
        "colab": {
          "base_uri": "https://localhost:8080/"
        },
        "id": "pgXvcDcl4Z25",
        "outputId": "353226de-85b9-47f1-9588-cc3c11aaca0b"
      },
      "execution_count": 35,
      "outputs": [
        {
          "output_type": "stream",
          "name": "stdout",
          "text": [
            "Enter some text (limit=3, default='hello'):  \n",
            "Blank values are not allowed.\n",
            "Enter some text (limit=3, default='hello'):  \n",
            "Blank values are not allowed.\n",
            "Enter some text (limit=3, default='hello'): \n",
            "Blank values are not allowed.\n",
            "You entered: hello\n"
          ]
        }
      ]
    },
    {
      "cell_type": "code",
      "source": [
        ""
      ],
      "metadata": {
        "id": "kGHBEUyjJwPd"
      },
      "execution_count": null,
      "outputs": []
    }
  ]
}