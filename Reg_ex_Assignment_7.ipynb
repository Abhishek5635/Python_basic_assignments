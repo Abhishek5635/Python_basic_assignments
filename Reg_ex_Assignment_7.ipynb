{
  "nbformat": 4,
  "nbformat_minor": 0,
  "metadata": {
    "colab": {
      "provenance": []
    },
    "kernelspec": {
      "name": "python3",
      "display_name": "Python 3"
    },
    "language_info": {
      "name": "python"
    }
  },
  "cells": [
    {
      "cell_type": "markdown",
      "source": [
        "1 ) What is the name of the feature responsible for generating Regex objects?"
      ],
      "metadata": {
        "id": "VKNAVnPeVl6n"
      }
    },
    {
      "cell_type": "markdown",
      "source": [
        "ANS :In Python, the re module provides the functionality to work with regex. we can create regex objects using the re.compile() function."
      ],
      "metadata": {
        "id": "n9BHBQ8MVuUu"
      }
    },
    {
      "cell_type": "markdown",
      "source": [
        "2. Why do raw strings often appear in Regex objects?"
      ],
      "metadata": {
        "id": "pRmu5h2iWftp"
      }
    },
    {
      "cell_type": "markdown",
      "source": [
        "Raw strings, denoted by prefixing the string with an 'r', are often used in regular expressions (regex) objects to avoid unintended interpretation of escape sequences."
      ],
      "metadata": {
        "id": "TC9vsWe1WiVt"
      }
    },
    {
      "cell_type": "markdown",
      "source": [
        "What is the return value of the search() method?\n",
        "- ANS : In Python, the search() method from the re module returns a match object if a pattern match is found in the string being searched. If no match is found, it returns None"
      ],
      "metadata": {
        "id": "3kqm04LEXfig"
      }
    },
    {
      "cell_type": "code",
      "execution_count": null,
      "metadata": {
        "colab": {
          "base_uri": "https://localhost:8080/"
        },
        "id": "2-HnPTJ2UpKO",
        "outputId": "9e295ad2-3260-4500-f48b-32850a5cd1ba"
      },
      "outputs": [
        {
          "output_type": "stream",
          "name": "stdout",
          "text": [
            "<re.Match object; span=(39, 44), match='Apple'>\n"
          ]
        }
      ],
      "source": [
        "import re\n",
        "pattern = r'Apple'\n",
        "text = \"Newton find gravity bacause of falling Apple\"\n",
        "result = re.search(pattern, text)\n",
        "print(result)"
      ]
    },
    {
      "cell_type": "markdown",
      "source": [
        "4. From a Match item, how do you get the actual strings that match the pattern?"
      ],
      "metadata": {
        "id": "zQIk6zTJYElT"
      }
    },
    {
      "cell_type": "markdown",
      "source": [
        "- ANS : From a match object in Python's re module, you can use the group() method to obtain the actual strings that match the pattern. The group() method without any arguments returns the entire matched substring. You can also provide an argument to retrieve a specific subgroup if your pattern contains capturing groups."
      ],
      "metadata": {
        "id": "tjKgWIXnZuCN"
      }
    },
    {
      "cell_type": "code",
      "source": [
        "import re\n",
        "pattern = r'(\\d{2})-(\\d{2})-(\\d{4})'\n",
        "text = \"today date : 25-06-2023\"\n",
        "\n",
        "print(re.findall(pattern,text))\n",
        "if match :\n",
        "  full_match = match.group()\n",
        "  print(\"full_match : \" , full_match)\n",
        "  day = match.group(1)\n",
        "  print(\"day : \", day)\n",
        "\n",
        "else:\n",
        "  print(\"wrong text\")"
      ],
      "metadata": {
        "colab": {
          "base_uri": "https://localhost:8080/"
        },
        "id": "nmMe9i7CZsgH",
        "outputId": "e73a4b1e-dab9-4c0e-a62b-29e6e65cb135"
      },
      "execution_count": 2,
      "outputs": [
        {
          "output_type": "stream",
          "name": "stdout",
          "text": [
            "[('25', '06', '2023')]\n",
            "full_match :  25-06-2023\n",
            "day :  25\n"
          ]
        }
      ]
    },
    {
      "cell_type": "markdown",
      "source": [
        "In the regex which created from the r&#39;(\\d\\d\\d)-(\\d\\d\\d-\\d\\d\\d\\d)&#39;, what does group zero cover?\n",
        "Group 2? Group 1?\n",
        "- ANS : Group 0 (or group index 0): This represents the entire match of the pattern. It covers the entire matched substring, including both Group 1 and Group 2.\n",
        "\n",
        "Group 1 (or group index 1): This corresponds to the first capturing group defined by (\\d\\d\\d). It captures a sequence of three digits.\n",
        "\n",
        "Group 2 (or group index 2): This corresponds to the second capturing group defined by (\\d\\d\\d-\\d\\d\\d\\d). It captures a sequence of three digits, followed by a hyphen, and then four digits."
      ],
      "metadata": {
        "id": "S1mg6NEtb-oa"
      }
    },
    {
      "cell_type": "code",
      "source": [
        "import re\n",
        "pattern = r'(\\d\\d\\d)-(\\d\\d\\d-\\d\\d\\d\\d)'\n",
        "text = \"the number : 123-256-7845\"\n",
        "match = re.search(pattern,text)\n",
        "if match :\n",
        "  group_0 = match.group(0)\n",
        "  print(\"group_0 : \", group_0)\n",
        "  group_1 = match.group(1)\n",
        "  print(\"group_1 : \", group_1)\n",
        "  group_2 = match.group(2)\n",
        "  print(\"group_2 : \", group_2)"
      ],
      "metadata": {
        "colab": {
          "base_uri": "https://localhost:8080/"
        },
        "id": "tD3Bl6lcYCdv",
        "outputId": "3acf8dbd-0f09-4c3c-b5cd-21587806c9e9"
      },
      "execution_count": null,
      "outputs": [
        {
          "output_type": "stream",
          "name": "stdout",
          "text": [
            "group_0 :  123-256-7845\n",
            "group_1 :  123\n",
            "group_2 :  256-7845\n"
          ]
        }
      ]
    },
    {
      "cell_type": "markdown",
      "source": [
        "6. In standard expression syntax, parentheses and intervals have distinct meanings. How can you tell\n",
        "a regex that you want it to fit real parentheses and periods?\n",
        "- ANS : In regular expression syntax, parentheses and periods (dots) have special meanings. To match literal parentheses or periods in a regex pattern, we can use backslashes (\\) to escape them. By preceding parentheses or periods with a backslash, we are telling the regex engine to interpret them as literal characters rather than special metacharacters."
      ],
      "metadata": {
        "id": "XPIu-I8ujMHJ"
      }
    },
    {
      "cell_type": "code",
      "source": [
        "text = \"we need help (helping hand) for the better society...\"\n",
        "patter = r'\\(helping hand\\) for the better society\\.\\.\\.'\n",
        "result = re.findall(patter, text)\n",
        "print(result)"
      ],
      "metadata": {
        "colab": {
          "base_uri": "https://localhost:8080/"
        },
        "id": "zOx9y--Ti87t",
        "outputId": "a277f2ac-0f38-4a9a-af61-f5918f3a9c9b"
      },
      "execution_count": null,
      "outputs": [
        {
          "output_type": "stream",
          "name": "stdout",
          "text": [
            "['(helping hand) for the better society...']\n"
          ]
        }
      ]
    },
    {
      "cell_type": "markdown",
      "source": [
        "7. The findall() method returns a string list or a list of string tuples. What causes it to return one of\n",
        "the two options?\n",
        "- ANS : If the regex pattern contains capturing groups (defined by parentheses), the findall() method returns a list of string tuples. Each tuple represents a match, and each element of the tuple corresponds to a capturing group within the pattern.\n",
        "\n",
        "If the regex pattern does not contain any capturing groups, the findall() method returns a list of strings. Each string represents a match of the entire pattern."
      ],
      "metadata": {
        "id": "-EC9ZC4GlCan"
      }
    },
    {
      "cell_type": "code",
      "source": [
        "import re\n",
        "pattern_1 = r'(\\d+) (\\w+)'\n",
        "pattern_2 = r'\\d+ \\w+'\n",
        "text = 'there are 5 balls and 2 bats in a bag'\n",
        "result_1 = re.findall(pattern_1, text)\n",
        "result_2 = re.findall(pattern_2, text)\n",
        "print(result_1)\n",
        "print(result_2)"
      ],
      "metadata": {
        "colab": {
          "base_uri": "https://localhost:8080/"
        },
        "id": "EuCZiTIhj4JW",
        "outputId": "28fdae92-7ebd-4e5d-ffd2-e3b84c4e2bc2"
      },
      "execution_count": null,
      "outputs": [
        {
          "output_type": "stream",
          "name": "stdout",
          "text": [
            "[('5', 'balls'), ('2', 'bats')]\n",
            "['5 balls', '2 bats']\n"
          ]
        }
      ]
    },
    {
      "cell_type": "markdown",
      "source": [
        "8. In standard expressions, what does the | character mean?\n",
        "- ANS : In regular expressions, the | character is known as the pipe or alternation operator. It is used to specify alternatives or choices within a pattern. The | character separates multiple patterns, and it matches any of the patterns on either side of it."
      ],
      "metadata": {
        "id": "L7Pd4FFdn6Zo"
      }
    },
    {
      "cell_type": "code",
      "source": [
        "text = \"find the dog and cat in house\"\n",
        "pattern = r'cat|dog'\n",
        "result = re.findall(pattern, text)\n",
        "print(result)"
      ],
      "metadata": {
        "colab": {
          "base_uri": "https://localhost:8080/"
        },
        "id": "h0iaPBRentsx",
        "outputId": "4e72eadd-b7e5-4b39-9f43-521920678369"
      },
      "execution_count": null,
      "outputs": [
        {
          "output_type": "stream",
          "name": "stdout",
          "text": [
            "['dog', 'cat']\n"
          ]
        }
      ]
    },
    {
      "cell_type": "markdown",
      "source": [
        "9. In regular expressions, what does the character stand for?\n",
        "- Ans : certain characters have special meanings and functions in regular expressions. These special characters are often referred to as metacharacters.\n",
        "for example : ^ (caret): Matches the start of a line or string."
      ],
      "metadata": {
        "id": "YIwBiPRMppgs"
      }
    },
    {
      "cell_type": "markdown",
      "source": [
        "10.In regular expressions, what is the difference between the + and * characters?\n",
        "- ans : + (plus sign): Matches one or more occurrences of the preceding element.\n",
        "* (asterisk): Matches zero or more occurrences of the preceding element."
      ],
      "metadata": {
        "id": "VfMEUbIVrOAS"
      }
    },
    {
      "cell_type": "code",
      "source": [
        "text = \"abbbbccc\"\n",
        "pattern_1 = r'ab+c'\n",
        "pattern_2 = r'ab*c'\n",
        "print(re.findall(pattern_1,text))\n",
        "print(re.findall(pattern_2, text))"
      ],
      "metadata": {
        "colab": {
          "base_uri": "https://localhost:8080/"
        },
        "id": "g6rElla_oy7Z",
        "outputId": "6b26a506-d21d-488d-cc08-798098ddc417"
      },
      "execution_count": null,
      "outputs": [
        {
          "output_type": "stream",
          "name": "stdout",
          "text": [
            "['abbbbc']\n",
            "['abbbbc']\n"
          ]
        }
      ]
    },
    {
      "cell_type": "code",
      "source": [
        "import re\n",
        "\n",
        "text = 'abbbbccc'\n",
        "text_2 = \"ackmjacabc\"\n",
        "pattern_plus = r'ab+c'\n",
        "matches_plus = re.findall(pattern_plus, text)\n",
        "print(matches_plus)\n",
        "\n",
        "pattern_asterisk = r'ab*c'\n",
        "matches_asterisk = re.findall(pattern_asterisk, text_2)\n",
        "print(matches_asterisk)"
      ],
      "metadata": {
        "colab": {
          "base_uri": "https://localhost:8080/"
        },
        "id": "FaCxCsSfr7YA",
        "outputId": "f4a3fce3-47ab-4400-b151-8c3d2b822b01"
      },
      "execution_count": null,
      "outputs": [
        {
          "output_type": "stream",
          "name": "stdout",
          "text": [
            "['abbbbc']\n",
            "['ac', 'ac', 'abc']\n"
          ]
        }
      ]
    },
    {
      "cell_type": "markdown",
      "source": [
        "11. What is the difference between {4} and {4,5} in regular expression?\n",
        "- ANS : {4}: Specifies an exact number of occurrences. It matches the preceding element exactly four times.\n",
        "{4,5}: Specifies a range of occurrences. It matches the preceding element at least four times and up to five times."
      ],
      "metadata": {
        "id": "KBX-fR_vtt8O"
      }
    },
    {
      "cell_type": "markdown",
      "source": [
        "12 : What do you mean by the \\d, \\w, and \\s shorthand character classes signify in regular\n",
        "expressions?\n",
        "- ANS :\n",
        "-- \\d: Represents any digit character. It is equivalent to the character class [0-9].\n",
        "-- \\w: Represents any word character. It matches alphanumeric characters (letters and digits) as well as underscores. It is equivalent to the character class [a-zA-Z0-9_].\n",
        "-- \\s: Represents any whitespace character. It matches spaces, tabs, newlines, and other whitespace characters. It is equivalent to the character class [\\t\\n\\r\\f\\v ]."
      ],
      "metadata": {
        "id": "PYg09dIJuVAG"
      }
    },
    {
      "cell_type": "markdown",
      "source": [
        "13. What do means by \\D, \\W, and \\S shorthand character classes signify in regular expressions?\n",
        "- ANS :\n",
        "-- \\D: Represents any non-digit character. It matches any character that is not a digit. It is equivalent to the negation of the character class [0-9].\n",
        "-- \\W: Represents any non-word character. It matches any character that is not a word character (i.e., not alphanumeric or underscore). It is equivalent to the negation of the character class [a-zA-Z0-9_].\n",
        "-- \\S: Represents any non-whitespace character. It matches any character that is not a whitespace character. It is equivalent to the negation of the character class [\\t\\n\\r\\f\\v ]."
      ],
      "metadata": {
        "id": "hSk5WPizvJM6"
      }
    },
    {
      "cell_type": "code",
      "source": [
        "import re\n",
        "text = \"the price of amul milk is 10 rs\"\n",
        "pattern_1 = r'\\D+'\n",
        "pattern_2 = r'\\W+'\n",
        "pattern_3 = r'\\S+'\n",
        "print(re.findall(pattern_1, text))\n",
        "print(re.findall(pattern_2, text))\n",
        "print(re.findall(pattern_3, text))"
      ],
      "metadata": {
        "colab": {
          "base_uri": "https://localhost:8080/"
        },
        "id": "o5Z-2pAesk8g",
        "outputId": "a13eaed0-e3eb-44be-f029-9ba7b36aecf5"
      },
      "execution_count": null,
      "outputs": [
        {
          "output_type": "stream",
          "name": "stdout",
          "text": [
            "['the price of amul milk is ', ' rs']\n",
            "[' ', ' ', ' ', ' ', ' ', ' ', ' ']\n",
            "['the', 'price', 'of', 'amul', 'milk', 'is', '10', 'rs']\n"
          ]
        }
      ]
    },
    {
      "cell_type": "markdown",
      "source": [
        "\n",
        "14. What is the difference between .*? and .*?\n",
        "- ANS :\n",
        "--\n",
        ".*? is a non-greedy or lazy quantifier. It matches as few characters as possible to satisfy the pattern. It will match zero or more occurrences of any character, but it will stop as soon as the next part of the pattern can be matched.\n",
        "\n",
        "--\n",
        ".* is a greedy quantifier. It matches as many characters as possible to satisfy the pattern. It will match zero or more occurrences of any character and will continue matching until the next part of the pattern cannot be matched."
      ],
      "metadata": {
        "id": "xLnfA0BPzw87"
      }
    },
    {
      "cell_type": "code",
      "source": [
        "text = \"abcabcabcsk skks ab\"\n",
        "pattern_1 = r'abc.*?'\n",
        "pattern_2 = r'abc.*'\n",
        "lazy_pattern = re.findall(pattern_1,text)\n",
        "nonlazy_pattern = re.findall(pattern_2,text)\n",
        "print(\"lazy pattern : \",lazy_pattern)\n",
        "print(\"non lazy pattern : \",nonlazy_pattern)\n",
        "\n"
      ],
      "metadata": {
        "colab": {
          "base_uri": "https://localhost:8080/"
        },
        "id": "L72t2ZidwZ6O",
        "outputId": "61433997-a566-4c1c-e4fb-db891575664c"
      },
      "execution_count": null,
      "outputs": [
        {
          "output_type": "stream",
          "name": "stdout",
          "text": [
            "lazy pattern :  ['abc', 'abc', 'abc']\n",
            "non lazy pattern :  ['abcabcabcsk skks ab']\n"
          ]
        }
      ]
    },
    {
      "cell_type": "markdown",
      "source": [
        "15. What is the syntax for matching both numbers and lowercase letters with a character class?\n",
        "- ANS : We can use [0-9a-z]\n",
        "-- n this syntax, [0-9] matches any digit from 0 to 9, and a-z matches any lowercase letter from a to z. By combining these two character ranges within the square brackets, we create a character class that matches either a digit or a lowercase letter."
      ],
      "metadata": {
        "id": "Tm_4OmrK26I5"
      }
    },
    {
      "cell_type": "code",
      "source": [
        "text = \"sda5e1gs455\"\n",
        "pattern = r'[0-9a-z]'\n",
        "print(re.findall(pattern,text))"
      ],
      "metadata": {
        "colab": {
          "base_uri": "https://localhost:8080/"
        },
        "id": "J8hquF5bwl19",
        "outputId": "0f76de83-99cd-4086-db3b-6d0f0a9aa452"
      },
      "execution_count": null,
      "outputs": [
        {
          "output_type": "stream",
          "name": "stdout",
          "text": [
            "['s', 'd', 'a', '5', 'e', '1', 'g', 's', '4', '5', '5']\n"
          ]
        }
      ]
    },
    {
      "cell_type": "markdown",
      "source": [
        "16. What is the procedure for making a normal expression in regax case insensitive?\n",
        "- ANS : To make a regular expression case-insensitive in Python, you can use the re.IGNORECASE flag or the re.I shorthand. These options allow the regular expression to match both uppercase and lowercase letters without distinguishing between them."
      ],
      "metadata": {
        "id": "yspnArBF4HTI"
      }
    },
    {
      "cell_type": "code",
      "source": [
        "text = \"Good Morning Mumbai\"\n",
        "pattern = \"good morning\"\n",
        "match = re.findall(pattern, text,re.IGNORECASE)\n",
        "print(match)"
      ],
      "metadata": {
        "colab": {
          "base_uri": "https://localhost:8080/"
        },
        "id": "0x26ufM23x7g",
        "outputId": "131fc4c2-2eeb-4f2b-fbd5-ddcb1a0462b3"
      },
      "execution_count": null,
      "outputs": [
        {
          "output_type": "stream",
          "name": "stdout",
          "text": [
            "['Good Morning']\n"
          ]
        }
      ]
    },
    {
      "cell_type": "markdown",
      "source": [
        "17. What does the . character normally match? What does it match if re.DOTALL is passed as 2nd\n",
        "argument in re.compile()?\n",
        "- ANS : In regular expressions, the . (dot) character normally matches any character except for a newline (\\n). It matches any single character except for newline characters.\n",
        "\n",
        "However, if the re.DOTALL flag is passed as the second argument to re.compile() or used as an inline flag ((?s)), the behavior of the . character changes. With the re.DOTALL flag enabled, the . character matches any character, including newline characters."
      ],
      "metadata": {
        "id": "oMMNeINK5gvP"
      }
    },
    {
      "cell_type": "code",
      "source": [
        "import re\n",
        "\n",
        "text = \"Hello\\nWorld\"\n",
        "text2 = \"H\\nello World\"\n",
        "# Normal behavior of the dot without re.DOTALL flag\n",
        "pattern_normal = r\"H.\"\n",
        "matches_normal = re.findall(pattern_normal, text)\n",
        "print(\"Normal matches:\", matches_normal)\n",
        "\n",
        "# Behavior of the dot with re.DOTALL flag\n",
        "pattern_dotall = r\"H.\"\n",
        "matches_dotall = re.findall(pattern_dotall, text2, re.DOTALL)\n",
        "print(\"Dotall matches:\", matches_dotall)\n"
      ],
      "metadata": {
        "colab": {
          "base_uri": "https://localhost:8080/"
        },
        "id": "Qp8Bk3u65T04",
        "outputId": "6e618fe2-897d-45b5-caed-0fa6b3842b63"
      },
      "execution_count": null,
      "outputs": [
        {
          "output_type": "stream",
          "name": "stdout",
          "text": [
            "Normal matches: ['He']\n",
            "Dotall matches: ['H\\n']\n"
          ]
        }
      ]
    },
    {
      "cell_type": "markdown",
      "source": [
        "18. If numReg = re.compile(r&#39;\\d+&#39;), what will numRegex.sub(&#39;X&#39;, &#39;11 drummers, 10 pipers, five rings, 4\n",
        "hen&#39;) return?\n",
        "- ANS : The numRegex.sub() method will replace all the digit in a give string with 'X' charc\n",
        "character"
      ],
      "metadata": {
        "id": "eSFZk4wW3HEu"
      }
    },
    {
      "cell_type": "code",
      "source": [
        "import re\n",
        "numReg = re.compile(r'\\d+')\n",
        "result =numReg.sub(\"X\", \"11 drummers, 10 pipers, five rings, 4 hen\")\n",
        "print(result)"
      ],
      "metadata": {
        "id": "wkJwmsKt9P-c",
        "colab": {
          "base_uri": "https://localhost:8080/"
        },
        "outputId": "bee6e8dd-d261-48c8-c367-5c8d6a737918"
      },
      "execution_count": 5,
      "outputs": [
        {
          "output_type": "stream",
          "name": "stdout",
          "text": [
            "X drummers, X pipers, five rings, X hen\n"
          ]
        }
      ]
    },
    {
      "cell_type": "markdown",
      "source": [
        "19. What does passing re.VERBOSE as the 2nd argument to re.compile() allow to do?\n",
        "- ans : When using re.VERBOSE, we can write the regular expression pattern across multiple lines and include comments using the # symbol. The whitespace and comments are ignored by the regular expression engine, so they do not affect the pattern matching."
      ],
      "metadata": {
        "id": "a6lA69H95I_K"
      }
    },
    {
      "cell_type": "code",
      "source": [
        "pattern = re.compile(r'''\n",
        "                     \\d+ #match one or more string\n",
        "                     \\s+ #match one or more white space\n",
        "                     \\w+ #match one or more word character\n",
        "\n",
        "                     ''', re.VERBOSE)\n",
        "\n",
        "text = \"123   gkl\"\n",
        "result = pattern.findall(text)\n",
        "print(result)"
      ],
      "metadata": {
        "colab": {
          "base_uri": "https://localhost:8080/"
        },
        "id": "18LUUCqO47fh",
        "outputId": "193798ec-430d-4672-f14a-ad61972e202d"
      },
      "execution_count": 13,
      "outputs": [
        {
          "output_type": "stream",
          "name": "stdout",
          "text": [
            "['123   gkl']\n"
          ]
        }
      ]
    },
    {
      "cell_type": "markdown",
      "source": [
        "20. How would you write a regex that match a number with comma for every three digits? It must\n",
        "match the given following:\n",
        "&#39;42&#39;\n",
        "&#39;1,234&#39;\n",
        "&#39;6,368,745&#39;\n",
        "\n",
        "but not the following:\n",
        "&#39;12,34,567&#39; (which has only two digits between the commas)\n",
        "&#39;1234&#39; (which lacks commas)"
      ],
      "metadata": {
        "id": "u0DzuBUF9IMc"
      }
    },
    {
      "cell_type": "code",
      "source": [
        "pattern = re.compile(r'^\\d{1,3}(,\\d{3})*$')\n",
        "strings = ['42','1,234','6,368,745','12,34,567','1234']\n",
        "\n",
        "for string in strings:\n",
        "  result = pattern.match(string)\n",
        "  if result:\n",
        "    print(f\"match found : {string}\")\n",
        "  else:\n",
        "    print(f'match not found : {string}')"
      ],
      "metadata": {
        "colab": {
          "base_uri": "https://localhost:8080/"
        },
        "id": "cKEkdJsE7UQZ",
        "outputId": "a7890b63-068e-4b22-a64e-ca4b8f6cf4d9"
      },
      "execution_count": 20,
      "outputs": [
        {
          "output_type": "stream",
          "name": "stdout",
          "text": [
            "match found : 42\n",
            "match found : 1,234\n",
            "match not found : 6,368,745sd\n",
            "match not found : 12,34,567\n",
            "match not found : 1234\n"
          ]
        }
      ]
    },
    {
      "cell_type": "markdown",
      "source": [
        "21. How would you write a regex that matches the full name of someone whose last name is\n",
        "Watanabe? You can assume that the first name that comes before it will always be one word that\n",
        "begins with a capital letter. The regex must match the following:\n",
        "&#39;Haruto Watanabe&#39;\n",
        "&#39;Alice Watanabe&#39;\n",
        "&#39;RoboCop Watanabe&#39;\n",
        "but not the following:\n",
        "&#39;haruto Watanabe&#39; (where the first name is not capitalized)\n",
        "&#39;Mr. Watanabe&#39; (where the preceding word has a nonletter character)\n",
        "&#39;Watanabe&#39; (which has no first name)\n",
        "&#39;Haruto watanabe&#39; (where Watanabe is not capitalized)"
      ],
      "metadata": {
        "id": "cyGCe3S5Htrt"
      }
    },
    {
      "cell_type": "code",
      "source": [
        "pattern = re.compile(r'^[A-Z]([a-z]|[A-Z])*\\sWatanabe$')\n",
        "strings = [\n",
        "    'Haruto Watanabe',\n",
        "    'Alice Watanabe',\n",
        "    'RoboCop Watanabe',\n",
        "    'haruto Watanabe',\n",
        "    'Mr. Watanabe',\n",
        "    'Watanabe'\n",
        "]\n",
        "for string in strings:\n",
        "  match = pattern.match(string)\n",
        "  if match :\n",
        "    print(f'match found : {string}')\n",
        "  else :\n",
        "    print(f'match not found : {string}')"
      ],
      "metadata": {
        "colab": {
          "base_uri": "https://localhost:8080/"
        },
        "id": "GhBxftoHHz8I",
        "outputId": "ebd30d6c-a266-47c6-f7ce-1d5c9b17f5b3"
      },
      "execution_count": 27,
      "outputs": [
        {
          "output_type": "stream",
          "name": "stdout",
          "text": [
            "match found : Haruto Watanabe\n",
            "match found : Alice Watanabe\n",
            "match found : RoboCop Watanabe\n",
            "match not found : haruto Watanabe\n",
            "match not found : Mr. Watanabe\n",
            "match not found : Watanabe\n"
          ]
        }
      ]
    },
    {
      "cell_type": "markdown",
      "source": [
        "22. How would you write a regex that matches the full name of someone whose last name is\n",
        "Watanabe? You can assume that the first name that comes before it will always be one word that\n",
        "begins with a capital letter. The regex must match the following:\n",
        "&#39;Haruto Watanabe&#39;\n",
        "&#39;Alice Watanabe&#39;\n",
        "&#39;RoboCop Watanabe&#39;\n",
        "but not the following:\n",
        "&#39;haruto Watanabe&#39; (where the first name is not capitalized)\n",
        "&#39;Mr. Watanabe&#39; (where the preceding word has a nonletter character)\n",
        "&#39;Watanabe&#39; (which has no first name)\n",
        "&#39;Haruto watanabe&#39; (where Watanabe is not capitalized)\n",
        "- ans :"
      ],
      "metadata": {
        "id": "RP-k1vCmC7Qt"
      }
    },
    {
      "cell_type": "code",
      "source": [
        "pattern = re.compile(r'(alice|bob|carol)\\s(eats|pets|throws)\\s(apples|cats|baseballs)\\.$', re.I)\n",
        "statements = [\n",
        "    'Alice eats apples.',\n",
        "    'Bob pets cats.',\n",
        "    'Carol throws baseballs.',\n",
        "    'Alice throws Apples.',\n",
        "    'BOB EATS CATS.',\n",
        "    'RoboCop eats apples.',\n",
        "    'ALICE THROWS FOOTBALLS.',\n",
        "    'Carol eats 7 cats.'\n",
        "]\n",
        "\n",
        "for statement in statements:\n",
        "  match = pattern.match(statement)\n",
        "  if match:\n",
        "    print(f\"match found : {statement}\")\n",
        "  else:\n",
        "    print(f\"match not found: {statement}\")"
      ],
      "metadata": {
        "colab": {
          "base_uri": "https://localhost:8080/"
        },
        "id": "hziNmttrByxQ",
        "outputId": "b436f1d9-b75f-42fe-8cfb-1ac5abb02afe"
      },
      "execution_count": 23,
      "outputs": [
        {
          "output_type": "stream",
          "name": "stdout",
          "text": [
            "match found : Alice eats apples.\n",
            "match found : Bob pets cats.\n",
            "match found : Carol throws baseballs.\n",
            "match found : Alice throws Apples.\n",
            "match found : BOB EATS CATS.\n",
            "match not found: RoboCop eats apples.\n",
            "match not found: ALICE THROWS FOOTBALLS.\n",
            "match not found: Carol eats 7 cats.\n"
          ]
        }
      ]
    },
    {
      "cell_type": "code",
      "source": [],
      "metadata": {
        "id": "gxFMmOVJOkMg"
      },
      "execution_count": null,
      "outputs": []
    }
  ]
}