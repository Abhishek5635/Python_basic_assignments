{
  "nbformat": 4,
  "nbformat_minor": 0,
  "metadata": {
    "colab": {
      "provenance": [],
      "authorship_tag": "ABX9TyPCyYBX1X6NrPzjwLjmvjmT",
      "include_colab_link": true
    },
    "kernelspec": {
      "name": "python3",
      "display_name": "Python 3"
    },
    "language_info": {
      "name": "python"
    }
  },
  "cells": [
    {
      "cell_type": "markdown",
      "metadata": {
        "id": "view-in-github",
        "colab_type": "text"
      },
      "source": [
        "<a href=\"https://colab.research.google.com/github/Abhishek5635/Python_basic_assignments/blob/main/power_shell_assignment_15.ipynb\" target=\"_parent\"><img src=\"https://colab.research.google.com/assets/colab-badge.svg\" alt=\"Open In Colab\"/></a>"
      ]
    },
    {
      "cell_type": "markdown",
      "source": [
        "1.How many seconds are in an hour? Use the interactive interpreter as a calculator and multiply the\n",
        "number of seconds in a minute (60) by the number of minutes in an hour (also 60).\n",
        "sol. 60"
      ],
      "metadata": {
        "id": "bc9YJtb2WLVX"
      }
    },
    {
      "cell_type": "code",
      "execution_count": null,
      "metadata": {
        "id": "wnAj8x5jUU8T"
      },
      "outputs": [],
      "source": [
        "Windows PowerShell\n",
        "Copyright (C) Microsoft Corporation. All rights reserved.\n",
        "\n",
        "Install the latest PowerShell for new features and improvements! https://aka.ms/PSWindows\n",
        "\n",
        "PS C:\\Users\\ACER> python\n",
        "Python 3.9.13 (main, Aug 25 2022, 23:51:50) [MSC v.1916 64 bit (AMD64)] :: Anaconda, Inc. on win32\n",
        "\n",
        "Warning:\n",
        "This Python interpreter is in a conda environment, but the environment has\n",
        "not been activated.  Libraries may fail to load.  To activate this environment\n",
        "please see https://conda.io/activation\n",
        "\n",
        "Type \"help\", \"copyright\", \"credits\" or \"license\" for more information.\n",
        ">>> second_per_min = 60\n",
        ">>> min_per_hour = 60\n",
        ">>> second_per_hour = second_per_hour * min_per_hour\n",
        "\n",
        ">>> second_per_hour= second_per_min * min_per_hour\n",
        ">>> second_per_hour\n",
        "3600\n",
        ">>>\n"
      ]
    },
    {
      "cell_type": "markdown",
      "source": [
        "2. Assign the result from the previous task (seconds in an hour) to a variable called\n",
        "seconds_per_hour."
      ],
      "metadata": {
        "id": "doDQohzKXf6H"
      }
    },
    {
      "cell_type": "code",
      "source": [
        "Windows PowerShell\n",
        "Copyright (C) Microsoft Corporation. All rights reserved.\n",
        "\n",
        "Install the latest PowerShell for new features and improvements! https://aka.ms/PSWindows\n",
        "\n",
        "PS C:\\Users\\ACER> python\n",
        "Python 3.9.13 (main, Aug 25 2022, 23:51:50) [MSC v.1916 64 bit (AMD64)] :: Anaconda, Inc. on win32\n",
        "\n",
        "Warning:\n",
        "This Python interpreter is in a conda environment, but the environment has\n",
        "not been activated.  Libraries may fail to load.  To activate this environment\n",
        "please see https://conda.io/activation\n",
        "\n",
        "Type \"help\", \"copyright\", \"credits\" or \"license\" for more information.\n",
        ">>> second_per_min = 60\n",
        ">>> min_per_hour = 60\n",
        ">>> second_per_hour = second_per_hour * min_per_hour\n",
        "\n",
        ">>> second_per_hour= second_per_min * min_per_hour\n",
        ">>> second_per_hour\n",
        "3600\n",
        ">>>\n"
      ],
      "metadata": {
        "id": "36Ky_yg1Xgsi"
      },
      "execution_count": null,
      "outputs": []
    },
    {
      "cell_type": "markdown",
      "source": [
        "3. How many seconds do you think there are in a day? Make use of the variables seconds per hour\n",
        "and minutes per hour."
      ],
      "metadata": {
        "id": "-T3BeYrlXsZH"
      }
    },
    {
      "cell_type": "code",
      "source": [
        "86400"
      ],
      "metadata": {
        "id": "hx_FXQixXtDq"
      },
      "execution_count": null,
      "outputs": []
    },
    {
      "cell_type": "markdown",
      "source": [
        "4. Calculate seconds per day again, but this time save the result in a variable called seconds_per_day"
      ],
      "metadata": {
        "id": "dGTFz4tDYWcs"
      }
    },
    {
      "cell_type": "code",
      "source": [
        "Windows PowerShell\n",
        "Copyright (C) Microsoft Corporation. All rights reserved.\n",
        "\n",
        "Install the latest PowerShell for new features and improvements! https://aka.ms/PSWindows\n",
        "\n",
        "PS C:\\Users\\ACER> python\n",
        "Python 3.9.13 (main, Aug 25 2022, 23:51:50) [MSC v.1916 64 bit (AMD64)] :: Anaconda, Inc. on win32\n",
        "\n",
        "Warning:\n",
        "This Python interpreter is in a conda environment, but the environment has\n",
        "not been activated.  Libraries may fail to load.  To activate this environment\n",
        "please see https://conda.io/activation\n",
        "\n",
        "Type \"help\", \"copyright\", \"credits\" or \"license\" for more information.\n",
        ">>> second_per_min = 60\n",
        ">>> min_per_hour = 60\n",
        ">>> second_per_hour = second_per_hour * min_per_hour\n",
        "Traceback (most recent call last):\n",
        "  File \"<stdin>\", line 1, in <module>\n",
        "NameError: name 'second_per_hour' is not defined\n",
        ">>> second_per_hour= second_per_min * min_per_hour\n",
        ">>> second_per_hour\n",
        "3600\n",
        ">>> no_of_hour = 24\n",
        ">>> seconds_per_day = no_of_hour * second_per_hour\n",
        ">>> seconds_per_aday\n",
        "86400\n",
        ">>>"
      ],
      "metadata": {
        "id": "gSzKrMD4YY2b"
      },
      "execution_count": null,
      "outputs": []
    },
    {
      "cell_type": "markdown",
      "source": [
        "5. Divide seconds_per_day by seconds_per_hour. Use floating-point (/) division."
      ],
      "metadata": {
        "id": "ZHGa3D-fY0uo"
      }
    },
    {
      "cell_type": "code",
      "source": [
        "Windows PowerShell\n",
        "Copyright (C) Microsoft Corporation. All rights reserved.\n",
        "\n",
        "Install the latest PowerShell for new features and improvements! https://aka.ms/PSWindows\n",
        "\n",
        "PS C:\\Users\\ACER> python\n",
        "Python 3.9.13 (main, Aug 25 2022, 23:51:50) [MSC v.1916 64 bit (AMD64)] :: Anaconda, Inc. on win32\n",
        "\n",
        "Warning:\n",
        "This Python interpreter is in a conda environment, but the environment has\n",
        "not been activated.  Libraries may fail to load.  To activate this environment\n",
        "please see https://conda.io/activation\n",
        "\n",
        "Type \"help\", \"copyright\", \"credits\" or \"license\" for more information.\n",
        ">>> second_per_min = 60\n",
        ">>> min_per_hour = 60\n",
        ">>> second_per_hour = second_per_hour * min_per_hour\n",
        "Traceback (most recent call last):\n",
        "  File \"<stdin>\", line 1, in <module>\n",
        "NameError: name 'second_per_hour' is not defined\n",
        ">>> second_per_hour= second_per_min * min_per_hour\n",
        ">>> second_per_hour\n",
        "3600\n",
        ">>> no_of_hour = 24\n",
        ">>> seconds_in_aday = no_of_hour * second_per_hour\n",
        ">>> seconds_in_aday\n",
        "86400\n",
        ">>> seconds_in_aday/second_per_hour\n",
        "24.0"
      ],
      "metadata": {
        "id": "TpWqYf3kY1TT"
      },
      "execution_count": null,
      "outputs": []
    },
    {
      "cell_type": "markdown",
      "source": [
        "6. Divide seconds_per_day by seconds_per_hour, using integer (//) division. Did this number agree\n",
        "with the floating-point value from the previous question, aside from the final .0?\n",
        " - Ans : Yes, the integer division result agrees with the floating-point value from the previous question, except for the final .0. In both cases, we obtain the value of 24, indicating that there are 24 hours in a day."
      ],
      "metadata": {
        "id": "_lRIRVdxZH91"
      }
    },
    {
      "cell_type": "markdown",
      "source": [
        "7. Write a generator, genPrimes, that returns the sequence of prime numbers on successive calls to\n",
        "its next() method: 2, 3, 5, 7, 11, ..."
      ],
      "metadata": {
        "id": "DDydElsQZhrI"
      }
    },
    {
      "cell_type": "code",
      "source": [
        "def genPrimes():\n",
        "    primes = []\n",
        "    num = 2\n",
        "\n",
        "    while True:\n",
        "        if all(num % prime != 0 for prime in primes):\n",
        "            primes.append(num)\n",
        "            yield num\n",
        "        num += 1\n"
      ],
      "metadata": {
        "id": "feDENn6aZIrr"
      },
      "execution_count": 13,
      "outputs": []
    },
    {
      "cell_type": "code",
      "source": [
        "obj = genPrimes()\n",
        "next(obj)"
      ],
      "metadata": {
        "colab": {
          "base_uri": "https://localhost:8080/"
        },
        "id": "JQu68ZT_coS7",
        "outputId": "0637bf2d-7690-4d12-fbc1-8dda389e5322"
      },
      "execution_count": 17,
      "outputs": [
        {
          "output_type": "execute_result",
          "data": {
            "text/plain": [
              "2"
            ]
          },
          "metadata": {},
          "execution_count": 17
        }
      ]
    },
    {
      "cell_type": "code",
      "source": [
        "prime_generator = genPrimes()\n",
        "\n",
        "for _ in range(6):\n",
        "    prime = next(prime_generator)\n",
        "    print(prime)\n"
      ],
      "metadata": {
        "colab": {
          "base_uri": "https://localhost:8080/"
        },
        "id": "UZlnFqVCcs_K",
        "outputId": "4b8155a5-8501-43bd-9afc-998b4e4f2ca3"
      },
      "execution_count": 16,
      "outputs": [
        {
          "output_type": "stream",
          "name": "stdout",
          "text": [
            "2\n",
            "3\n",
            "5\n",
            "7\n",
            "11\n",
            "13\n"
          ]
        }
      ]
    },
    {
      "cell_type": "code",
      "source": [],
      "metadata": {
        "id": "-1BAcnJRcu7q"
      },
      "execution_count": null,
      "outputs": []
    }
  ]
}