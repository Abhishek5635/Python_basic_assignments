{
  "nbformat": 4,
  "nbformat_minor": 0,
  "metadata": {
    "colab": {
      "provenance": [],
      "authorship_tag": "ABX9TyMiWkyK9vJfkOLPU3yr0cqr",
      "include_colab_link": true
    },
    "kernelspec": {
      "name": "python3",
      "display_name": "Python 3"
    },
    "language_info": {
      "name": "python"
    }
  },
  "cells": [
    {
      "cell_type": "markdown",
      "metadata": {
        "id": "view-in-github",
        "colab_type": "text"
      },
      "source": [
        "<a href=\"https://colab.research.google.com/github/Abhishek5635/Python_basic_assignments/blob/main/oops_assignment_1.ipynb\" target=\"_parent\"><img src=\"https://colab.research.google.com/assets/colab-badge.svg\" alt=\"Open In Colab\"/></a>"
      ]
    },
    {
      "cell_type": "markdown",
      "source": [
        "Q1. What is the purpose of Python&#39;s OOP?"
      ],
      "metadata": {
        "id": "6b4ArSSISJr3"
      }
    },
    {
      "cell_type": "markdown",
      "source": [
        "- ANS:\n",
        " - The purpose of Python's object-oriented programming (OOP) is to provide a structured and modular approach to writing code by organizing data and behavior into reusable objects. OOP allows you to create classes, which are like blueprints or templates for creating object\n",
        " - The main goals of OOP in Python are:\n",
        "   - Encapsulation\n",
        "   - Polymorphism\n",
        "   - abstraction\n",
        "   - Inheritance"
      ],
      "metadata": {
        "id": "dL3eAXr5SxwR"
      }
    },
    {
      "cell_type": "markdown",
      "source": [
        "Q2. Where does an inheritance search look for an attribute?"
      ],
      "metadata": {
        "id": "c_Un_Au_Twwo"
      }
    },
    {
      "cell_type": "markdown",
      "source": [
        "- ANs : During an inheritance search in Python, when We try to access an attribute or method on an instance of a class, the interpreter looks for it in a specific order. This order is determined by the method resolution order (MRO)."
      ],
      "metadata": {
        "id": "ZvoD3o-Mnj1Y"
      }
    },
    {
      "cell_type": "code",
      "execution_count": 3,
      "metadata": {
        "id": "MYwl5G8hNE7H",
        "colab": {
          "base_uri": "https://localhost:8080/"
        },
        "outputId": "a34f266d-e6be-458b-bc4e-0bff852dfd52"
      },
      "outputs": [
        {
          "output_type": "stream",
          "name": "stdout",
          "text": [
            "<__main__.Car object at 0x7f9606b8ecb0>\n"
          ]
        }
      ],
      "source": [
        "class Vehicle:\n",
        "    def __init__(self, name):\n",
        "        self.name = name\n",
        "\n",
        "    def start(self):\n",
        "        print(\"Starting the vehicle.\")\n",
        "\n",
        "class Car(Vehicle):\n",
        "    def __init__(self, name, fuel_type):\n",
        "        super().__init__(name)\n",
        "        self.fuel_type = fuel_type\n",
        "\n",
        "    def start(self):\n",
        "        print(\"Starting the car.\")\n",
        "\n",
        "\n",
        "mycar= Car(\"tesla\", 'electric')\n",
        "\"\"\"since the attribute name is present in the my car instace it is\n",
        "directly called without going hieracheal search\"\"\"\n",
        "print(mycar)"
      ]
    },
    {
      "cell_type": "markdown",
      "source": [
        "Q3. How do you distinguish between a class object and an instance object?\n",
        "- Ans:\n",
        " - Class Object:\n",
        "A class object is like a blueprint or a set of instructions for creating objects.\n",
        "It defines the attributes (variables) and behaviors (methods) that the objects of that class will have.\n",
        "You can think of a class object as a generalized concept or a template that describes what the objects of that class will be like.\n",
        " - Instance Object:\n",
        "An instance object is a specific object created based on the blueprint provided by the class object.\n",
        "It represents a concrete occurrence of the class, an individual object with its own unique characteristics.\n",
        "Each instance has its own set of attribute values that can differ from other instances of the same class.\n",
        "Think of an instance as a concrete manifestation of the class, with its own distinct properties."
      ],
      "metadata": {
        "id": "h4pt4ODNq7R3"
      }
    },
    {
      "cell_type": "code",
      "source": [
        "class animal:\n",
        "  leg = 4\n",
        "\n",
        "# creating class object\n",
        "animal.leg\n",
        "\n",
        "class animal:\n",
        "  def __init__(self, task):\n",
        "    self.task = task\n",
        "\n",
        "\n",
        "# creating instance object\n",
        "obj = animal('eating')"
      ],
      "metadata": {
        "id": "tqOIFAeJoD4Z"
      },
      "execution_count": 6,
      "outputs": []
    },
    {
      "cell_type": "markdown",
      "source": [
        "Q4. What makes the first argument in a class’s method function special?\n",
        "- Ans:\n",
        " - In Python, the first argument in a class's method function is conventionally named self, although you can use any name you prefer. This first argument represents the instance object itself and allows you to access and manipulate its attributes and methods within the class."
      ],
      "metadata": {
        "id": "lJuEY2Sx9CgG"
      }
    },
    {
      "cell_type": "code",
      "source": [
        "class Class:\n",
        "  def __init__(self, name):\n",
        "    self.name = name\n",
        "\n",
        "  def std(self, std):\n",
        "    self.std = std\n",
        "    return f'{self.name} is in {std} '\n",
        "\n",
        "std = Class('abhishek')\n",
        "std.std('seventh')"
      ],
      "metadata": {
        "colab": {
          "base_uri": "https://localhost:8080/",
          "height": 35
        },
        "id": "_CmV8juxtddw",
        "outputId": "d7f25cf5-8bc6-4248-f7c6-5b79b5411e57"
      },
      "execution_count": 10,
      "outputs": [
        {
          "output_type": "execute_result",
          "data": {
            "text/plain": [
              "'abhishek is in seventh '"
            ],
            "application/vnd.google.colaboratory.intrinsic+json": {
              "type": "string"
            }
          },
          "metadata": {},
          "execution_count": 10
        }
      ]
    },
    {
      "cell_type": "markdown",
      "source": [
        "Q5. What is the purpose of the __init__ method?\n",
        " - Ans:\n",
        "  - The __init__ method is a special method in Python classes that is automatically called when a new instance of the class is created. Its purpose is to initialize the attributes of the instance object."
      ],
      "metadata": {
        "id": "PRjspMB--6cu"
      }
    },
    {
      "cell_type": "code",
      "source": [
        "class Car:\n",
        "    def __init__(self, brand, color):\n",
        "        self.brand = brand\n",
        "        self.color = color\n",
        "\n",
        "my_car = Car(\"Tesla\", \"red\")\n",
        "print(my_car.brand)  # Output: Tesla\n",
        "print(my_car.color)  # Output: red\n"
      ],
      "metadata": {
        "colab": {
          "base_uri": "https://localhost:8080/"
        },
        "id": "nOzHIEUs-jCr",
        "outputId": "306c2ab7-0ced-4f68-93b8-9aacd2c8c564"
      },
      "execution_count": 11,
      "outputs": [
        {
          "output_type": "stream",
          "name": "stdout",
          "text": [
            "Tesla\n",
            "red\n"
          ]
        }
      ]
    },
    {
      "cell_type": "markdown",
      "source": [
        "Q6. What is the process for creating a class instance?\n",
        "- Ans:\n",
        " - Class Definition: Begin by defining a class that specifies the blueprint for creating instances. The class determines the attributes and behaviors the instances will possess.\n",
        "python\n",
        " - nstance Creation: To create an instance of the class, you can call the class as if it were a function, passing any required arguments defined in the __init__ method."
      ],
      "metadata": {
        "id": "bdypz5-q_WVs"
      }
    },
    {
      "cell_type": "markdown",
      "source": [
        "Q7. What is the process for creating a class?\n",
        " - Ans: The process for creating a class in Python involves the following steps:\n",
        "  - Class Definition\n",
        "  - define Class Attributes\n",
        "  - define Methods\n",
        "  - Instance Creation\n"
      ],
      "metadata": {
        "id": "-WjDm0PhBZt9"
      }
    },
    {
      "cell_type": "markdown",
      "source": [
        "Q8. How would you define the superclasses of a class?\n",
        " - Ans:\n",
        "  - The superclasses of a class, also known as parent classes or base classes, are the classes from which the current class inherits attributes and methods. In Python, class inheritance allows you to create a hierarchy of classes where the child class (also known as the derived class) inherits the characteristics of the parent class(es)."
      ],
      "metadata": {
        "id": "LIonpOD4B5xD"
      }
    },
    {
      "cell_type": "code",
      "source": [
        "class parent:\n",
        "  def dec(self):\n",
        "    return \"this is parent class\"\n",
        "\n",
        "class child(parent):\n",
        "  def child_dec(self):\n",
        "    return 'this is child class'\n",
        "\n",
        "# accessing parent class methods\n",
        "obj = child()\n",
        "obj.dec()"
      ],
      "metadata": {
        "colab": {
          "base_uri": "https://localhost:8080/",
          "height": 35
        },
        "id": "BRvti3J4-laW",
        "outputId": "8916d13f-9e03-412e-b70d-bd94aedacc90"
      },
      "execution_count": 13,
      "outputs": [
        {
          "output_type": "execute_result",
          "data": {
            "text/plain": [
              "'this is parent class'"
            ],
            "application/vnd.google.colaboratory.intrinsic+json": {
              "type": "string"
            }
          },
          "metadata": {},
          "execution_count": 13
        }
      ]
    },
    {
      "cell_type": "code",
      "source": [],
      "metadata": {
        "id": "yta_1-lKCrqy"
      },
      "execution_count": null,
      "outputs": []
    }
  ]
}