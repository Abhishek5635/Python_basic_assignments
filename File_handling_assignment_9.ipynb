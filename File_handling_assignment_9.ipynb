{
  "nbformat": 4,
  "nbformat_minor": 0,
  "metadata": {
    "colab": {
      "provenance": [],
      "authorship_tag": "ABX9TyMGDMDJEFpcS+Shfx5A/2q+",
      "include_colab_link": true
    },
    "kernelspec": {
      "name": "python3",
      "display_name": "Python 3"
    },
    "language_info": {
      "name": "python"
    }
  },
  "cells": [
    {
      "cell_type": "markdown",
      "metadata": {
        "id": "view-in-github",
        "colab_type": "text"
      },
      "source": [
        "<a href=\"https://colab.research.google.com/github/Abhishek5635/Python_basic_assignments/blob/main/File_handling_assignment_9.ipynb\" target=\"_parent\"><img src=\"https://colab.research.google.com/assets/colab-badge.svg\" alt=\"Open In Colab\"/></a>"
      ]
    },
    {
      "cell_type": "markdown",
      "source": [
        "1. To what does a relative path refer?\n",
        "- ANS :A relative path refers to the location of a file or directory relative to the current working directory or another specified starting point. It is expressed in relation to the current directory rather than specifying the complete path from the root directory.\n",
        "this is the following file structure and suppose we are at index.html and we need to point out to the Report1.docx file then\n",
        "- syntax : ..\\Documents\\Reports\\Report1.docx\"\n",
        "- .. = use for parent\n",
        "- . = use for child\n",
        "- Documents/\n",
        "  - README.txt\n",
        "  - Reports/\n",
        "    - Report1.docx\n",
        "    - Report2.docx\n",
        "- Images/\n",
        "  - Pic1.jpg\n",
        "  - Pic2.jpg\n",
        "- index.html\n"
      ],
      "metadata": {
        "id": "edTu5Fv8re5_"
      }
    },
    {
      "cell_type": "markdown",
      "source": [
        "2. What does an absolute path start with your operating system?\n",
        "- Ans : An absolute path starts with the root directory of the operating system. The root directory is denoted differently depending on the operating system.\n",
        "\n",
        "In Windows, an absolute path typically starts with a drive letter followed by a colon (:) and a backslash (\\). For example:\n",
        "- C:\\Users\\Documents\\file.txt\n"
      ],
      "metadata": {
        "id": "y-bmNhR8sneF"
      }
    },
    {
      "cell_type": "markdown",
      "source": [
        "3. What do the functions os.getcwd() and os.chdir() do?\n",
        "- Ans : The functions os.getcwd() and os.chdir() are part of the os module in Python, which provides a way to interact with the operating system. These functions are used to work with the current working directory (CWD).\n",
        "- os.getcwd(): The os.getcwd() function returns the current working directory. It retrieves the path of the directory where the Python script or interactive shell is currently running.\n",
        "- os.chdir(): The os.chdir() function is used to change the current working directory to the specified path."
      ],
      "metadata": {
        "id": "7h_FWTWgtrlU"
      }
    },
    {
      "cell_type": "code",
      "execution_count": 8,
      "metadata": {
        "colab": {
          "base_uri": "https://localhost:8080/"
        },
        "id": "9Ncw0T0gq1tZ",
        "outputId": "83b3bbb9-8c81-4c92-fc21-e8d348fda272"
      },
      "outputs": [
        {
          "output_type": "stream",
          "name": "stdout",
          "text": [
            "/content\n"
          ]
        }
      ],
      "source": [
        "import os\n",
        "current_dir = os.getcwd()\n",
        "print(current_dir)\n",
        "\n"
      ]
    },
    {
      "cell_type": "markdown",
      "source": [
        "4. What are the . and .. folders?\n",
        "- \".\" (dot) folder:\n",
        "The \".\" folder represents the current directory. It is a reference to the directory in which the command or script is currently executing.\n",
        "For example, if the current working directory is \"/home/user/Documents\", then \".\" refers to \"/home/user/Documents\" itself.\n",
        "\n",
        "- \"..\" (dot-dot) folder:\n",
        "The \"..\" folder represents the parent directory. It is a reference to the directory that contains the current directory.\n",
        "For example, if the current working directory is \"/home/user/Documents\", then \"..\" refers to \"/home/user\", which is the parent directory of \"/home/user/Documents\"."
      ],
      "metadata": {
        "id": "joKcfLtZwpDO"
      }
    },
    {
      "cell_type": "markdown",
      "source": [
        "5. In C:\\bacon\\eggs\\spam.txt, which part is the dir name, and which part is the base name?\n",
        "- Ans :\n",
        "-  \"C:\\bacon\\eggs\" is the directory name, which specifies the path of the directory containing the file.\n",
        "- \"spam.txt\" is the base name, which represents the actual file name."
      ],
      "metadata": {
        "id": "4rKaalWR5UNt"
      }
    },
    {
      "cell_type": "markdown",
      "source": [
        "6. What are the three “mode” arguments that can be passed to the open() function?\n",
        "- ANS :\n",
        "- \"r\" (Read mode):\n",
        "This mode is used to open an existing file for reading.\n",
        "- \"w\" (Write mode):\n",
        "This mode is used to open a file for writing.\n",
        "- \"a\" (Append mode):\n",
        "This mode is used to open a file for appending (adding content at the end of the file)."
      ],
      "metadata": {
        "id": "zQEuORT351rt"
      }
    },
    {
      "cell_type": "markdown",
      "source": [
        "7. What happens if an existing file is opened in write mode?\n",
        "- Ans :\n",
        "- If the file exists:\n",
        "The existing file's content will be completely truncated (emptied).\n",
        "The file pointer will be positioned at the beginning of the file.\n",
        "Any data previously stored in the file will be permanently deleted.\n",
        "The file is effectively overwritten with the new content you write to it.\n",
        "\n",
        "- If the file doesn't exist:\n",
        "A new file with the specified name will be created.\n",
        "The file is opened in write mode for writing the new content."
      ],
      "metadata": {
        "id": "aNvtHmmx6agW"
      }
    },
    {
      "cell_type": "markdown",
      "source": [
        "8. How do you tell the difference between read() and readlines()?\n",
        "- Ans :\n",
        "- read():\n",
        "The read() method reads the entire content of the file as a single string.\n",
        "It reads from the current position of the file pointer up to the end of the file.\n",
        "If we don't specify the size argument, it will read the entire file.\n",
        "If we specify the size argument, it will read that number of characters from the file.\n",
        "It returns a string containing the read content.\n",
        "- readlines():\n",
        "The readlines() method reads the content of the file line by line.\n",
        "It reads from the current position of the file pointer up to the end of the file.\n",
        "It returns a list where each element represents a line of the file, including the newline character (\"\\n\").\n",
        "You can use a loop or other list manipulation techniques to process each line."
      ],
      "metadata": {
        "id": "ARn1Rp9H7B_k"
      }
    },
    {
      "cell_type": "code",
      "source": [
        "with open(\"test.txt\", \"a+\") as f :\n",
        "  f.write(\"this is file\\n we are writing in this file\")\n",
        "  content = f.read()\n",
        "  print(content)\n",
        "  f.close()\n",
        "\n",
        "# reading the file by using read function\n",
        "f = open(\"test.txt\", \"r\")\n",
        "content =f.read()\n",
        "print(content)\n",
        "\n",
        "# reading the file using readline() function\n",
        "f = open(\"test.txt\", \"r\")\n",
        "lines = f.readline()\n",
        "for line in lines:\n",
        "    print(line.rstrip())\n",
        "f.close()"
      ],
      "metadata": {
        "colab": {
          "base_uri": "https://localhost:8080/"
        },
        "id": "Gu-kTfc6ud44",
        "outputId": "503fcaed-87fc-413f-941f-907a7243e5f8"
      },
      "execution_count": 25,
      "outputs": [
        {
          "output_type": "stream",
          "name": "stdout",
          "text": [
            "\n",
            "this is file\n",
            " we are writing in this filethis is file\n",
            " we are writing in this filethis is file\n",
            " we are writing in this filethis is file\n",
            " we are writing in this filethis is file\n",
            " we are writing in this filethis is file\n",
            " we are writing in this filethis is file\n",
            " we are writing in this filethis is file\n",
            " we are writing in this filethis is file\n",
            " we are writing in this filethis is file\n",
            " we are writing in this filethis is file\n",
            " we are writing in this filethis is file\n",
            " we are writing in this filethis is file\n",
            " we are writing in this filethis is file\n",
            " we are writing in this filethis is file\n",
            " we are writing in this filethis is file\n",
            " we are writing in this file\n",
            "t\n",
            "h\n",
            "i\n",
            "s\n",
            "\n",
            "i\n",
            "s\n",
            "\n",
            "f\n",
            "i\n",
            "l\n",
            "e\n",
            "\n"
          ]
        }
      ]
    },
    {
      "cell_type": "markdown",
      "source": [
        "9. What data structure does a shelf value resemble?\n",
        " - ans : In Python, a shelf value, specifically referring to the shelve module, resembles a dictionary-like data structure.\n",
        " - The shelve module in Python is like a special dictionary that allows us to save data to a file and retrieve it later. It's similar to having a notebook where we can write down information and look it up whenever you need it."
      ],
      "metadata": {
        "id": "pTyTFkuY_7SC"
      }
    },
    {
      "cell_type": "code",
      "source": [
        "import shelve\n",
        "my_shelf = shelve.open(\"newdata\")\n",
        "my_shelf[\"name\"] = \"Abhishek\"\n",
        "my_shelf[\"batch\"] = \"fsds2.0\"\n",
        "\n",
        "name = my_shelf[\"name\"]\n",
        "batch = my_shelf[\"batch\"]\n",
        "\n",
        "print(name)\n",
        "print(batch)\n",
        "\n",
        "my_shelf.close()"
      ],
      "metadata": {
        "colab": {
          "base_uri": "https://localhost:8080/"
        },
        "id": "pmDFEPxGvKfZ",
        "outputId": "0aafa0d5-2251-4f45-f1df-8bda11d37534"
      },
      "execution_count": 32,
      "outputs": [
        {
          "output_type": "stream",
          "name": "stdout",
          "text": [
            "Abhishek\n",
            "fsds2.0\n"
          ]
        }
      ]
    },
    {
      "cell_type": "code",
      "source": [],
      "metadata": {
        "id": "0Kw88xzdvdYC"
      },
      "execution_count": null,
      "outputs": []
    }
  ]
}