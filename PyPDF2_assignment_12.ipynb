{
  "nbformat": 4,
  "nbformat_minor": 0,
  "metadata": {
    "colab": {
      "provenance": [],
      "authorship_tag": "ABX9TyMpDZDBOxXaL9jpUzW/8ZK3",
      "include_colab_link": true
    },
    "kernelspec": {
      "name": "python3",
      "display_name": "Python 3"
    },
    "language_info": {
      "name": "python"
    }
  },
  "cells": [
    {
      "cell_type": "markdown",
      "metadata": {
        "id": "view-in-github",
        "colab_type": "text"
      },
      "source": [
        "<a href=\"https://colab.research.google.com/github/Abhishek5635/Python_basic_assignments/blob/main/PyPDF2_assignment_12.ipynb\" target=\"_parent\"><img src=\"https://colab.research.google.com/assets/colab-badge.svg\" alt=\"Open In Colab\"/></a>"
      ]
    },
    {
      "cell_type": "markdown",
      "source": [
        "1. In what modes should the PdfFileReader() and PdfFileWriter() File objects will be opened?\n",
        "- Ans :\n",
        " - n the PyPDF2 library, which is commonly used for working with PDF files in Python, the PdfFileReader() and PdfFileWriter() classes are used to read from and write to PDF files, respectively."
      ],
      "metadata": {
        "id": "IN8eRDoWoZVN"
      }
    },
    {
      "cell_type": "code",
      "source": [
        "!pip install PyPDF2"
      ],
      "metadata": {
        "colab": {
          "base_uri": "https://localhost:8080/"
        },
        "id": "ZEVnFFdOr9bP",
        "outputId": "da275af7-be36-46ec-8138-ee4860dbe9c9"
      },
      "execution_count": null,
      "outputs": [
        {
          "output_type": "stream",
          "name": "stdout",
          "text": [
            "Collecting PyPDF2\n",
            "  Downloading pypdf2-3.0.1-py3-none-any.whl (232 kB)\n",
            "\u001b[?25l     \u001b[90m━━━━━━━━━━━━━━━━━━━━━━━━━━━━━━━━━━━━━━━━\u001b[0m \u001b[32m0.0/232.6 kB\u001b[0m \u001b[31m?\u001b[0m eta \u001b[36m-:--:--\u001b[0m\r\u001b[2K     \u001b[91m━━━━━━━━━━━━━━━━━━━━━━━━━━━━━━━━━━━━━\u001b[0m\u001b[91m╸\u001b[0m\u001b[90m━\u001b[0m \u001b[32m225.3/232.6 kB\u001b[0m \u001b[31m7.0 MB/s\u001b[0m eta \u001b[36m0:00:01\u001b[0m\r\u001b[2K     \u001b[90m━━━━━━━━━━━━━━━━━━━━━━━━━━━━━━━━━━━━━━━\u001b[0m \u001b[32m232.6/232.6 kB\u001b[0m \u001b[31m4.7 MB/s\u001b[0m eta \u001b[36m0:00:00\u001b[0m\n",
            "\u001b[?25hInstalling collected packages: PyPDF2\n",
            "Successfully installed PyPDF2-3.0.1\n"
          ]
        }
      ]
    },
    {
      "cell_type": "code",
      "execution_count": null,
      "metadata": {
        "id": "CQ2kKYTmoWXe"
      },
      "outputs": [],
      "source": []
    },
    {
      "cell_type": "markdown",
      "source": [
        "2. From a PdfFileReader object, how do you get a Page object for page 5?\n",
        "- Ans : To obtain a Page object for page 5 from a PdfFileReader object, you can use the getPage() method provided by the PyPDF2 library. Here's an example code snippet:"
      ],
      "metadata": {
        "id": "Bw5RFZ8Lr0xA"
      }
    },
    {
      "cell_type": "code",
      "source": [
        "from PyPDF2 import PdfFileReader\n",
        "\n",
        "# Open the PDF file\n",
        "pdf_path = \"path/to/our/file.pdf\"\n",
        "pdf_reader = PdfFileReader(pdf_path)\n",
        "\n",
        "# Get the Page object for page 5\n",
        "page_number = 4  # Page numbers are zero-based, so page 5 is at index 4\n",
        "page = pdf_reader.getPage(page_number)\n"
      ],
      "metadata": {
        "id": "kctYfDjartYp"
      },
      "execution_count": null,
      "outputs": []
    },
    {
      "cell_type": "markdown",
      "source": [
        "3. What PdfFileReader variable stores the number of pages in the PDF document?\n",
        "- ANs : The PdfFileReader class in the PyPDF2 library provides a variable called numPages to store the number of pages in a PDF document. we can access this variable directly to retrieve the page count. Here's an example"
      ],
      "metadata": {
        "id": "-od5T9ZtorEk"
      }
    },
    {
      "cell_type": "code",
      "source": [
        "from PyPDF2 import PdfReader\n",
        "\n",
        "# Open the PDF file\n",
        "pdf_path = \"C:/Users/ACER/Downloads/pdf reader/Resume.pdf\"\n",
        "\n",
        "pdf_reader = PdfReader(pdf_path)\n",
        "\n",
        "# Get the number of pages in the PDF document\n",
        "num_pages = len(pdf_reader.pages)\n",
        "\n",
        "# Print the page count\n",
        "print(\"Number of pages:\", num_pages)\n"
      ],
      "metadata": {
        "id": "Pm8W3OgAo5yh"
      },
      "execution_count": 1,
      "outputs": []
    },
    {
      "cell_type": "markdown",
      "source": [
        "4. If a PdfFileReader object’s PDF is encrypted with the password swordfish, what must you do\n",
        "before you can obtain Page objects from it?\n",
        "- Ans :"
      ],
      "metadata": {
        "id": "L9LjJSDErRuQ"
      }
    },
    {
      "cell_type": "code",
      "source": [
        "from PyPDF2 import PdfFileReader\n",
        "\n",
        "# Open the encrypted PDF file\n",
        "pdf_path = \"path/to/your/encrypted/file.pdf\"\n",
        "pdf_reader = PdfFileReader(pdf_path)\n",
        "\n",
        "# Decrypt the PDF with the password\n",
        "password = \"swordfish\"\n",
        "pdf_reader.decrypt(password)\n",
        "\n",
        "# Get Page objects from the decrypted PDF\n",
        "page_number = 0\n",
        "page = pdf_reader.getPage(page_number)\n"
      ],
      "metadata": {
        "id": "V1N-w9eHo-VA"
      },
      "execution_count": null,
      "outputs": []
    },
    {
      "cell_type": "markdown",
      "source": [
        "5.What methods do you use to rotate a page?\n",
        "- ans:\n",
        "To rotate a page in a PDF using the PyPDF2 library, we can use the rotateClockwise() or rotateCounterClockwise() methods provided by the PageObject class."
      ],
      "metadata": {
        "id": "dXbKAJjHr8SG"
      }
    },
    {
      "cell_type": "markdown",
      "source": [
        "6. What is the difference between a Run object and a Paragraph object?\n",
        "- ans :\n",
        " - Paragraph:\n",
        " A Paragraph object represents a block of text within a document.\n",
        "It typically contains one or more Run objects.\n",
        " - Run:\n",
        "\n",
        "A Run object represents a contiguous run of text within a paragraph.\n",
        "It is a subset of the text within a paragraph that shares the same formatting properties."
      ],
      "metadata": {
        "id": "WTtUViIRswKk"
      }
    },
    {
      "cell_type": "code",
      "source": [
        "from docx import Document\n",
        "\n",
        "# Create a new Document\n",
        "doc = Document()\n",
        "\n",
        "# Add a Paragraph with multiple Runs\n",
        "paragraph = doc.add_paragraph()\n",
        "\n",
        "run1 = paragraph.add_run(\"Hello, \")\n",
        "run1.bold = True\n",
        "\n",
        "paragraph2 = doc.add_paragraph()\n",
        "run3 = paragraph2.add_run(\"This is another paragraph.\")\n",
        "\n",
        "# Save the Document\n",
        "doc.save(\"example.docx\")"
      ],
      "metadata": {
        "id": "oF6_UEB8st1b"
      },
      "execution_count": null,
      "outputs": []
    },
    {
      "cell_type": "markdown",
      "source": [
        "7. How do you obtain a list of Paragraph objects for a Document object that’s stored in a variable\n",
        "named doc?\n",
        "- Ans : to obtain a list of Paragraph objects from a Document object stored in a variable named doc, we can use the paragraphs attribute of the Document objec"
      ],
      "metadata": {
        "id": "hsr8nx8pwGSZ"
      }
    },
    {
      "cell_type": "code",
      "source": [
        "from docx import Document\n",
        "\n",
        "# Assume the 'doc' variable holds the Document object\n",
        "\n",
        "# Get the list of Paragraph objects\n",
        "paragraphs = doc.paragraphs\n",
        "\n",
        "# Iterate through the Paragraph objects\n",
        "for paragraph in paragraphs:\n",
        "    # Access and process each Paragraph object as needed\n",
        "    print(paragraph.text)"
      ],
      "metadata": {
        "id": "E2i7mVKmw0B2"
      },
      "execution_count": null,
      "outputs": []
    },
    {
      "cell_type": "markdown",
      "source": [
        "8. What type of object has bold, underline, italic, strike, and outline variables?\n",
        "- ans: The bold, underline, italic, strike, and outline variables are typically associated with a Run object in document processing libraries like python-docx or similar frameworks."
      ],
      "metadata": {
        "id": "HwecW34hw75d"
      }
    },
    {
      "cell_type": "markdown",
      "source": [
        "9. What is the difference between False, True, and None for the bold variable?\n",
        "- Ans:\n",
        " - False:\n",
        "Setting bold to False indicates that the text should not be displayed in bold.\n",
        "The text represented by the Run object will be rendered without any bold formatting.\n",
        "Example: run.bold = False\n",
        " - True:\n",
        "Setting bold to True indicates that the text should be displayed in bold.\n",
        "The text represented by the Run object will be rendered with bold formatting.\n",
        "Example: run.bold = True\n",
        "- None:\n",
        "Setting bold to None indicates that the bold formatting should be inherited from the surrounding context.\n",
        "The text represented by the Run object will adopt the bold formatting determined by its parent element, such as the paragraph or document.\n",
        "If no bold formatting is explicitly applied to the surrounding context, the text will not be rendered in bold.\n",
        "Example: run.bold = None"
      ],
      "metadata": {
        "id": "zFU3b0hzyB0Q"
      }
    },
    {
      "cell_type": "markdown",
      "source": [
        "10. How do you create a Document object for a new Word document?\n",
        "- Ans:\n",
        " - To create a Document object for a new Word document using the python-docx library, you can use the Document() constructor"
      ],
      "metadata": {
        "id": "CtvSmC44yewe"
      }
    },
    {
      "cell_type": "code",
      "source": [
        "from docx import Document\n",
        "\n",
        "# Create a new Document object\n",
        "doc = Document()\n",
        "\n",
        "# Add content to the document\n",
        "doc.add_paragraph(\"This is the first paragraph.\")\n",
        "doc.add_paragraph(\"This is the second paragraph.\")\n",
        "\n",
        "# Save the document\n",
        "doc.save(\"new_document.docx\")\n"
      ],
      "metadata": {
        "id": "cu8IYpWzx-04"
      },
      "execution_count": null,
      "outputs": []
    },
    {
      "cell_type": "markdown",
      "source": [
        "11. How do you add a paragraph with the text &#39;Hello, there!&#39; to a Document object stored in a\n",
        "variable named doc?"
      ],
      "metadata": {
        "id": "PBxSUrQgyzYX"
      }
    },
    {
      "cell_type": "code",
      "source": [
        "from docx import Document\n",
        "\n",
        "# Create a new Document object\n",
        "doc = Document()\n",
        "\n",
        "# Add a paragraph with the text 'Hello, there!'\n",
        "paragraph = doc.add_paragraph(\"Hello, there!\")\n",
        "\n",
        "# Get the first run in the paragraph\n",
        "run = paragraph.runs[0]\n",
        "\n",
        "# Apply bold formatting to the run\n",
        "run.bold = True\n",
        "\n",
        "# Save the document\n",
        "doc.save('new.docx')\n"
      ],
      "metadata": {
        "id": "j3nsiaUDy3PX"
      },
      "execution_count": null,
      "outputs": []
    },
    {
      "cell_type": "markdown",
      "source": [
        "12. What integers represent the levels of headings available in Word documents?\n",
        "- ans : Word documents, the levels of headings are typically represented by integers, ranging from 1 to 9. Each integer corresponds to a specific heading level, indicating the hierarchical structure of the document. Here is the commonly used mapping of integers to heading levels:\n",
        "\n",
        "- Heading 1: Level 1\n",
        "- Heading 2: Level 2\n",
        "- Heading 3: Level 3\n",
        "- Heading 4: Level 4\n",
        "- Heading 5: Level 5\n",
        "- Heading 6: Level 6\n",
        "- Heading 7: Level 7\n",
        "- Heading 8: Level 8\n",
        "- Heading 9: Level 9"
      ],
      "metadata": {
        "id": "WdDMFliu0QmU"
      }
    },
    {
      "cell_type": "code",
      "source": [],
      "metadata": {
        "id": "qER246Hg0nGm"
      },
      "execution_count": null,
      "outputs": []
    }
  ]
}