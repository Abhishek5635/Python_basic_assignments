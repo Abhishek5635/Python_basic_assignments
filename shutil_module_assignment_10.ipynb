{
  "nbformat": 4,
  "nbformat_minor": 0,
  "metadata": {
    "colab": {
      "provenance": [],
      "authorship_tag": "ABX9TyNHNZqJT1vYdRmvocMYRQDU",
      "include_colab_link": true
    },
    "kernelspec": {
      "name": "python3",
      "display_name": "Python 3"
    },
    "language_info": {
      "name": "python"
    }
  },
  "cells": [
    {
      "cell_type": "markdown",
      "metadata": {
        "id": "view-in-github",
        "colab_type": "text"
      },
      "source": [
        "<a href=\"https://colab.research.google.com/github/Abhishek5635/Python_basic_assignments/blob/main/shutil_module_assignment_10.ipynb\" target=\"_parent\"><img src=\"https://colab.research.google.com/assets/colab-badge.svg\" alt=\"Open In Colab\"/></a>"
      ]
    },
    {
      "cell_type": "markdown",
      "source": [
        "1. How do you distinguish between shutil.copy() and shutil.copytree()?\n",
        "- Ans :\n",
        "- shutil.copy(src, dst): This function is used to copy a single file from the source (src) to the destination (dst). It creates a new file at the destination with the same content as the source file. If the destination file already exists, it will be overwritten.\n",
        "\n",
        "- shutil.copytree(src, dst): This function is used to recursively copy an entire directory tree from the source (src) to the destination (dst). It creates a new directory at the destination and replicates the entire structure of the source directory, including all subdirectories and files. If the destination directory already exists, a FileExistsError is raised"
      ],
      "metadata": {
        "id": "UznsoNoN8sLm"
      }
    },
    {
      "cell_type": "code",
      "execution_count": null,
      "metadata": {
        "id": "C0YizJf4454w"
      },
      "outputs": [],
      "source": [
        "import shutil"
      ]
    },
    {
      "cell_type": "code",
      "source": [
        "import shutil\n",
        "#copying the file\n",
        "shutil.copy('shutil_module_assignment_10.py', 'main.py')\n",
        "\n",
        "# copying the\n",
        "shutil.copytree('main folder', \"new_folder\")\n"
      ],
      "metadata": {
        "id": "bv4jzxyT9b27"
      },
      "execution_count": null,
      "outputs": []
    },
    {
      "cell_type": "markdown",
      "source": [
        "2. What function is used to rename files??\n",
        "- Ans :\n",
        "- The shutil module in Python provides the shutil.move(src, dst) function, which can be used to rename files by moving them from the source location (src) to the destination location (dst) with a new name.\n",
        "\n",
        "The shutil.move() function can be used to perform both file renaming and moving files across directories. When the source and destination paths are in the same directory, it effectively renames the file."
      ],
      "metadata": {
        "id": "aNcz-FmENJFU"
      }
    },
    {
      "cell_type": "markdown",
      "source": [
        "3. What is the difference between the delete functions in the send2trash and shutil modules?\n",
        "- Ans :\n",
        " - send2trash module:\n",
        "The send2trash module provides a function called send2trash() that sends files or directories to the operating system's trash or recycle bin instead of permanently deleting them. This allows for a safer deletion process as it provides an opportunity to recover the deleted items from the trash if needed.\n",
        " - shutil module:\n",
        "The shutil module provides a function called shutil.rmtree() that is used to delete directories and their contents recursively. It can be used to remove entire directory trees, including all subdirectories and files within them. Unlike send2trash(), shutil.rmtree() permanently deletes the specified directories and files without sending them to the trash."
      ],
      "metadata": {
        "id": "ddyOFSjvRil5"
      }
    },
    {
      "cell_type": "markdown",
      "source": [
        "4.ZipFile objects have a close() method just like File objects’ close() method. What ZipFile method is\n",
        "equivalent to File objects’ open() method?\n",
        "- Ans :\n",
        " -  The equivalent method to File objects' open() method for ZipFile objects is the ZipFile() constructor. It is used to create a new ZipFile object and open a ZIP file for reading or writing."
      ],
      "metadata": {
        "id": "8chclrFST9Dl"
      }
    },
    {
      "cell_type": "code",
      "source": [
        "import zipfile\n",
        "with zipfile.ZipFile(\"myzipfile.zip\", 'w') as z:\n",
        "    z.write('shutil.module_assignment_10.ipynb')\n",
        "    z.close()"
      ],
      "metadata": {
        "id": "JHtMlIh795bP"
      },
      "execution_count": 1,
      "outputs": []
    },
    {
      "cell_type": "markdown",
      "source": [
        "5. Create a programme that searches a folder tree for files with a certain file extension (such as .pdf\n",
        "or .jpg). Copy these files from whatever location they are in to a new folder.\n"
      ],
      "metadata": {
        "id": "oiQ-QFtQXGFW"
      }
    },
    {
      "cell_type": "code",
      "source": [
        "import os\n",
        "import shutil\n",
        "\n",
        "# funtion for searching the file and copying\n",
        "def search_and_copyfiles(sourcefolder, destfolder, file_exten):\n",
        "    # os.walk recursivly traverse source folder\n",
        "    for foldername, subfolder, filesname in os.walk(sourcefolder):\n",
        "        for filename in filesname:\n",
        "            if filename.endswith(file_exten):\n",
        "                source_file = os.path.join(foldername, filename)\n",
        "                dest_file = os.path.join(destfolder,filename)\n",
        "                if not os.path.exists(dest_file):\n",
        "                    shutil.copy(source_file,destfolder)\n",
        "                    print(f'file is copied from {sourcefolder} -> {destfolder}')\n",
        "                else:\n",
        "                    print(f'{source_file} file exist already')\n",
        "\n",
        "#source folder location path\n",
        "sourcefolder = 'C:\\\\Users\\\\ACER\\\\Downloads\\\\main'\n",
        "#destination folder path\n",
        "destfolder = 'C:\\\\Users\\\\ACER\\\\Downloads\\\\main\\\\main'\n",
        "# required extension file to be copied\n",
        "file_exten = '.pdf'\n",
        "search_and_copyfiles(sourcefolder,destfolder, file_exten)"
      ],
      "metadata": {
        "id": "1tMJYUYCXEfB"
      },
      "execution_count": null,
      "outputs": []
    }
  ]
}