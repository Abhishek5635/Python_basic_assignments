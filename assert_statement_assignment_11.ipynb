{
  "nbformat": 4,
  "nbformat_minor": 0,
  "metadata": {
    "colab": {
      "provenance": [],
      "authorship_tag": "ABX9TyOklcuQDI1hcqyQOuj8enhf",
      "include_colab_link": true
    },
    "kernelspec": {
      "name": "python3",
      "display_name": "Python 3"
    },
    "language_info": {
      "name": "python"
    }
  },
  "cells": [
    {
      "cell_type": "markdown",
      "metadata": {
        "id": "view-in-github",
        "colab_type": "text"
      },
      "source": [
        "<a href=\"https://colab.research.google.com/github/Abhishek5635/Python_basic_assignments/blob/main/assert_statement_assignment_11.ipynb\" target=\"_parent\"><img src=\"https://colab.research.google.com/assets/colab-badge.svg\" alt=\"Open In Colab\"/></a>"
      ]
    },
    {
      "cell_type": "markdown",
      "source": [
        "1. Create an assert statement that throws an AssertionError if the variable spam is a negative\n",
        "integer."
      ],
      "metadata": {
        "id": "4UFXqOFKH_sC"
      }
    },
    {
      "cell_type": "code",
      "execution_count": 14,
      "metadata": {
        "colab": {
          "base_uri": "https://localhost:8080/"
        },
        "id": "NOsoUfOVH9bK",
        "outputId": "f36c99dd-be75-432a-8595-9ad949e05cc7"
      },
      "outputs": [
        {
          "output_type": "stream",
          "name": "stdout",
          "text": [
            "spam should be a non-negative integer\n"
          ]
        }
      ],
      "source": [
        "spam = -10\n",
        "try:\n",
        "    assert spam >= 0, \"spam should be a non-negative integer\"\n",
        "    print(spam)\n",
        "except AssertionError as e:\n",
        "    print((e))\n"
      ]
    },
    {
      "cell_type": "markdown",
      "source": [
        "2. Write an assert statement that triggers an AssertionError if the variables eggs and bacon contain\n",
        "strings that are the same as each other, even if their cases are different (that is, &#39;hello&#39; and &#39;hello&#39; are\n",
        "considered the same, and &#39;goodbye&#39; and &#39;GOODbye&#39; are also considered the same)."
      ],
      "metadata": {
        "id": "C4yAXyRZK5YF"
      }
    },
    {
      "cell_type": "code",
      "source": [
        "eggs = \"hello goodbye\"\n",
        "bacon = \"Hello GOODbye\"\n",
        "try:\n",
        "    assert eggs == bacon, 'Assertion error eggs and bacon are not same'\n",
        "\n",
        "except AssertionError as e:\n",
        "    print((e))\n"
      ],
      "metadata": {
        "colab": {
          "base_uri": "https://localhost:8080/"
        },
        "id": "VkWDiAF3IkKm",
        "outputId": "f3cc0e4f-a2d9-4bf3-e920-afc7683a9ef3"
      },
      "execution_count": 24,
      "outputs": [
        {
          "output_type": "stream",
          "name": "stdout",
          "text": [
            "Assertion error eggs and bacon are not same\n"
          ]
        }
      ]
    },
    {
      "cell_type": "markdown",
      "source": [
        "3. Create an assert statement that throws an AssertionError every time.\n"
      ],
      "metadata": {
        "id": "_kvuYGgNOoJ_"
      }
    },
    {
      "cell_type": "code",
      "source": [
        "\n",
        "assert 1 == 0, \"This assert statement always throws an AssertionError\""
      ],
      "metadata": {
        "colab": {
          "base_uri": "https://localhost:8080/",
          "height": 166
        },
        "id": "TFthzvIVKGcT",
        "outputId": "760a8c01-5c12-45a4-d3e6-6eeb044e49f7"
      },
      "execution_count": 25,
      "outputs": [
        {
          "output_type": "error",
          "ename": "AssertionError",
          "evalue": "ignored",
          "traceback": [
            "\u001b[0;31m---------------------------------------------------------------------------\u001b[0m",
            "\u001b[0;31mAssertionError\u001b[0m                            Traceback (most recent call last)",
            "\u001b[0;32m<ipython-input-25-7b52d9484edc>\u001b[0m in \u001b[0;36m<cell line: 1>\u001b[0;34m()\u001b[0m\n\u001b[0;32m----> 1\u001b[0;31m \u001b[0;32massert\u001b[0m \u001b[0;36m1\u001b[0m \u001b[0;34m==\u001b[0m \u001b[0;36m0\u001b[0m\u001b[0;34m,\u001b[0m \u001b[0;34m\"This assert statement always throws an AssertionError\"\u001b[0m\u001b[0;34m\u001b[0m\u001b[0;34m\u001b[0m\u001b[0m\n\u001b[0m",
            "\u001b[0;31mAssertionError\u001b[0m: This assert statement always throws an AssertionError"
          ]
        }
      ]
    },
    {
      "cell_type": "markdown",
      "source": [
        "4. What are the two lines that must be present in your software in order to call logging.debug()?\n",
        ""
      ],
      "metadata": {
        "id": "VX-O395GPKFT"
      }
    },
    {
      "cell_type": "code",
      "source": [
        "# first line\n",
        "import logging\n",
        "# 2nd line setting the logging mode\n",
        "logging.basicConfig(level = logging.DEBUG)"
      ],
      "metadata": {
        "id": "qyskxZ4xKbg_"
      },
      "execution_count": 27,
      "outputs": []
    },
    {
      "cell_type": "markdown",
      "source": [
        "5. What are the two lines that your program must have in order to have logging.debug() send a\n",
        "logging message to a file named programLog.txt?"
      ],
      "metadata": {
        "id": "hxXr5bieP5Yc"
      }
    },
    {
      "cell_type": "code",
      "source": [
        "logging.basicConfig(filename = \"programLog.txt\", level = logging.DEBUG)\n",
        "logging.debug('This is my first log info')"
      ],
      "metadata": {
        "id": "Iiaes_Z7PxXS"
      },
      "execution_count": 28,
      "outputs": []
    },
    {
      "cell_type": "markdown",
      "source": [
        "6. What are the five levels of logging?\n",
        "- Ans:\n",
        " - 1) Critical\n",
        " - 2) Error\n",
        " - 3) Warning\n",
        " - 4) Info\n",
        " - 5) debug"
      ],
      "metadata": {
        "id": "Y39hwWJvQ3gq"
      }
    },
    {
      "cell_type": "markdown",
      "source": [
        "7. What line of code would you add to your software to disable all logging messages?\n",
        "- Ans:\n",
        "  - This line sets the logging level to the highest level, CRITICAL, effectively disabling all logging messages with a severity lower than or equal to CRITICAL. Once this line is executed, no logging messages, including DEBUG, INFO, WARNING, ERROR, and CRITICAL, will be displayed or logged."
      ],
      "metadata": {
        "id": "flB361zeRjSG"
      }
    },
    {
      "cell_type": "code",
      "source": [
        "logging.disable(logging.CRITICAL)"
      ],
      "metadata": {
        "id": "JykckeFbQhOu"
      },
      "execution_count": null,
      "outputs": []
    },
    {
      "cell_type": "markdown",
      "source": [
        "8.Why is using logging messages better than using print() to display the same message?\n",
        " - Ans : Using logging messages instead of print() offers several advantages:\n",
        "  - we can customize the log format, log level, and log destination (e.g., console, file, network) based on your needs\n",
        "  - The logging module provides different severity levels such as DEBUG, INFO, WARNING, ERROR, and CRITICAL. This allows you to categorize and prioritize the importance and severity of log messages.\n",
        "  - With logging, we can easily enable or disable logging messages without modifying your code."
      ],
      "metadata": {
        "id": "_NjPSwyvS3Yq"
      }
    },
    {
      "cell_type": "markdown",
      "source": [
        "9. What are the differences between the Step Over, Step In, and Step Out buttons in the debugger?\n",
        "- step Over: If you click the Step Over button, the debugger will execute the current line and move to the next line. For example, if you are at the line x = 2, clicking Step Over will execute that line, assign x the value of 2, and move to the next line y = x + 3. Similarly, clicking Step Over at print(y) will execute that line and move to the next line after the function call.\n",
        "\n",
        "- Step In: Clicking the Step In button will enter into the execution of a function or method call. For instance, if you click Step In while inside the foo() function call in the bar() function, the debugger will move to the first line inside the foo() function (x = 2) and allow you to step through the code inside foo(). This way, you can analyze how the function foo() behaves and debug any issues within that function.\n",
        "\n",
        "- Step Out: If you are already inside a function and want to move out of it, you can click the Step Out button. For example, if you are inside the foo() function and click Step Out, the debugger will execute the remaining lines of foo() without stopping and return control to the line immediately after the function call in bar(). This allows you to quickly move to the next line in the calling function."
      ],
      "metadata": {
        "id": "y8DG792UTktu"
      }
    },
    {
      "cell_type": "code",
      "source": [
        "def foo():\n",
        "    x = 2\n",
        "    y = x + 3\n",
        "    print(y)\n",
        "\n",
        "def bar():\n",
        "    a = 5\n",
        "    b = a * 2\n",
        "    foo()\n",
        "    print(b)\n",
        "\n",
        "bar()"
      ],
      "metadata": {
        "id": "BS6gWlYAS4R3"
      },
      "execution_count": null,
      "outputs": []
    },
    {
      "cell_type": "markdown",
      "source": [
        "10.After you click Continue, when will the debugger stop ?\n",
        "- A Breakpoint is Encountered\n",
        "- An Exception is Raised and Not Handle\n",
        "- Program Execution Completes Successfully\n",
        "- An External Signal is Received (like ctrl+c on terminal)"
      ],
      "metadata": {
        "id": "mP75j2RPUvvj"
      }
    },
    {
      "cell_type": "markdown",
      "source": [
        "11. What is the concept of a breakpoint?\n",
        " -\n",
        "A breakpoint is a designated point in your code where you want the debugger to pause during program execution. When the debugger encounters a breakpoint, it suspends the execution and allows you to examine the program's state, inspect variables, and step through the code line by line for debugging purposes.\n",
        " - When the program runs, it will pause at the line with the breakpoint (pdb.set_trace()). At this point, you can interact with the debugger in the terminal. we can inspect the values of variables, execute code line by line, and debug the program's behavior."
      ],
      "metadata": {
        "id": "E7Uo28GIWD0x"
      }
    },
    {
      "cell_type": "code",
      "source": [
        "import pdb\n",
        "\n",
        "def calculate_sum(a, b):\n",
        "    result = a + b\n",
        "    pdb.set_trace()  # Set a breakpoint\n",
        "    return result\n",
        "\n",
        "x = 5\n",
        "y = 10\n",
        "z = calculate_sum(x, y)\n",
        "print(z)\n"
      ],
      "metadata": {
        "id": "DnS-VAPSUp-a"
      },
      "execution_count": null,
      "outputs": []
    }
  ]
}